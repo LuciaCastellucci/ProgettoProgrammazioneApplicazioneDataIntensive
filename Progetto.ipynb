{
 "cells": [
  {
   "cell_type": "markdown",
   "metadata": {},
   "source": [
    "# Previsione dello stipendio di un dipendente nell'ambito della data science sulla base delle condizioni di lavoro\n",
    "\n",
    "**Progetto di Programmazione di Applicazioni Data Intensive a.a. 2021/22**\n",
    "\n",
    "Realizzato da: Lucia Castellucci\n",
    "\n",
    "lucia.castellucci2@studio.unibo.it"
   ]
  },
  {
   "cell_type": "markdown",
   "metadata": {},
   "source": [
    "# Caricamento Librerie\n",
    "Per prima cosa carichiamo le librerie per effettuare operazioni sui dati\n",
    "\n",
    "- NumPy per creare e operare su array a N dimensioni\n",
    "- pandas per caricare e manipolare dati tabulari\n",
    "- matplotlib per creare grafici\n",
    "\n",
    "Importiamo le librerie usando i loro alias convenzionali e abilitando l'inserimento dei grafici direttamente nel notebook"
   ]
  },
  {
   "cell_type": "code",
   "execution_count": 101,
   "metadata": {},
   "outputs": [],
   "source": [
    "import numpy as np\n",
    "import pandas as pd\n",
    "import matplotlib.pyplot as plt"
   ]
  },
  {
   "cell_type": "markdown",
   "metadata": {},
   "source": [
    "# Caricamento dei dati\n",
    "Carichiamo ora il dataset con i dati ottenuto da [Kaggle](https://www.kaggle.com/). Il dataset è denominato \"Data Science Job Salaries\".\n",
    "\n",
    "Il dataset è stato ricavato da un indagine effettuata su un campione di 606 lavoratori del campo della Data Science inserendo le informazioni ricavate in un file formato csv. La rilevazione è stata effettuata su salari percepiti tra gli anni 2020 e 2022."
   ]
  },
  {
   "cell_type": "markdown",
   "metadata": {},
   "source": [
    "**Significato delle colonne**\n",
    "\n",
    "Le feature presenti nel Dataset sono:\n",
    "\n",
    "- `work_year`: L'anno in cui è stato percepito il salario.\n",
    "- `experience_level`: Il livello di esperienza del lavoratore, durante l'anno lavorativo campionato. I valori della colonna sono i seguenti:\n",
    "    - EN: Entry-level\n",
    "    - MI: Junior (Mid-level) \n",
    "    - SE: Intermediate (Senior-level)\n",
    "    - EX: Expert (Executive-level) \n",
    "    - Director\n",
    "- `employment_type`: Il contratto di lavoro in termini di orario. I valori della colonna sono i seguenti:\n",
    "    - PT: Part-time\n",
    "    - FT: Full-time\n",
    "    - CT: Contract \n",
    "    - FL: Freelance\n",
    "- `job_title`: Il ruolo ricoperto durante l'anno lavorativo.\t\n",
    "- `salary`: L'importo totale della retribuzione lorda pagata.\n",
    "- `salary_currency`: La valuta dello stipendio rispettando lo standard del codice valuta ISO 4217.\n",
    "- `employee_residence`: Il paese di residenza dei lavoratori durante l'anno lavorativo rispettando lo standard del codice paese ISO 3166.\n",
    "- `remote_ratio`: La parte dell'impiego svolta da remoto. I valori della colonna sono i seguenti:\n",
    "    - 0: Niente lavoro da remoto\n",
    "    - 50: Parzialmente da remoto\n",
    "    - 100: Totalmente da remoto (sopra una percentuale dell'80%)\n",
    "- `company_location`:\tIl paese dove risiede la sede principale del datore di lavoro o la succursale appaltante rispettando lo standard del codice paese ISO 3166.\n",
    "- `company_size`:\tIl numero medio di persone che hanno lavorato per l'azienda durante l'anno lavorativo. I valori della colonna sono i seguenti:\n",
    "    - S: Per aziende con meno di 50 impeigati (Small).\n",
    "    - M: Per aziende con un numero di impiegati compresi tra i 50 e i 250 (Medium).\n",
    "    - L: Per aziende con più di 250 impeigati (Large).\n",
    "\n",
    "La misura per la quale verrano svolte le analisi predittive è:\n",
    "\n",
    "- `salary_in_usd` : Indica il salario percepito, espresso in nella valuta USD, ed è una variabile continua."
   ]
  },
  {
   "cell_type": "code",
   "execution_count": 102,
   "metadata": {},
   "outputs": [],
   "source": [
    "data = pd.read_csv(\"ds_salaries.csv\", index_col=0,)"
   ]
  },
  {
   "cell_type": "code",
   "execution_count": 103,
   "metadata": {},
   "outputs": [
    {
     "name": "stdout",
     "output_type": "stream",
     "text": [
      "<class 'pandas.core.frame.DataFrame'>\n",
      "Int64Index: 607 entries, 0 to 606\n",
      "Columns: 11 entries, work_year to company_size\n",
      "dtypes: int64(4), object(7)\n",
      "memory usage: 277.0 KB\n"
     ]
    }
   ],
   "source": [
    "data.info(verbose=False, memory_usage=\"deep\");"
   ]
  },
  {
   "cell_type": "code",
   "execution_count": 104,
   "metadata": {},
   "outputs": [],
   "source": [
    "starting_data = data"
   ]
  },
  {
   "cell_type": "code",
   "execution_count": 105,
   "metadata": {
    "scrolled": true
   },
   "outputs": [
    {
     "data": {
      "text/html": [
       "<div>\n",
       "<style scoped>\n",
       "    .dataframe tbody tr th:only-of-type {\n",
       "        vertical-align: middle;\n",
       "    }\n",
       "\n",
       "    .dataframe tbody tr th {\n",
       "        vertical-align: top;\n",
       "    }\n",
       "\n",
       "    .dataframe thead th {\n",
       "        text-align: right;\n",
       "    }\n",
       "</style>\n",
       "<table border=\"1\" class=\"dataframe\">\n",
       "  <thead>\n",
       "    <tr style=\"text-align: right;\">\n",
       "      <th></th>\n",
       "      <th>work_year</th>\n",
       "      <th>experience_level</th>\n",
       "      <th>employment_type</th>\n",
       "      <th>job_title</th>\n",
       "      <th>salary</th>\n",
       "      <th>salary_currency</th>\n",
       "      <th>salary_in_usd</th>\n",
       "      <th>employee_residence</th>\n",
       "      <th>remote_ratio</th>\n",
       "      <th>company_location</th>\n",
       "      <th>company_size</th>\n",
       "    </tr>\n",
       "  </thead>\n",
       "  <tbody>\n",
       "    <tr>\n",
       "      <th>0</th>\n",
       "      <td>2020</td>\n",
       "      <td>MI</td>\n",
       "      <td>FT</td>\n",
       "      <td>Data Scientist</td>\n",
       "      <td>70000</td>\n",
       "      <td>EUR</td>\n",
       "      <td>79833</td>\n",
       "      <td>DE</td>\n",
       "      <td>0</td>\n",
       "      <td>DE</td>\n",
       "      <td>L</td>\n",
       "    </tr>\n",
       "    <tr>\n",
       "      <th>1</th>\n",
       "      <td>2020</td>\n",
       "      <td>SE</td>\n",
       "      <td>FT</td>\n",
       "      <td>Machine Learning Scientist</td>\n",
       "      <td>260000</td>\n",
       "      <td>USD</td>\n",
       "      <td>260000</td>\n",
       "      <td>JP</td>\n",
       "      <td>0</td>\n",
       "      <td>JP</td>\n",
       "      <td>S</td>\n",
       "    </tr>\n",
       "    <tr>\n",
       "      <th>2</th>\n",
       "      <td>2020</td>\n",
       "      <td>SE</td>\n",
       "      <td>FT</td>\n",
       "      <td>Big Data Engineer</td>\n",
       "      <td>85000</td>\n",
       "      <td>GBP</td>\n",
       "      <td>109024</td>\n",
       "      <td>GB</td>\n",
       "      <td>50</td>\n",
       "      <td>GB</td>\n",
       "      <td>M</td>\n",
       "    </tr>\n",
       "    <tr>\n",
       "      <th>3</th>\n",
       "      <td>2020</td>\n",
       "      <td>MI</td>\n",
       "      <td>FT</td>\n",
       "      <td>Product Data Analyst</td>\n",
       "      <td>20000</td>\n",
       "      <td>USD</td>\n",
       "      <td>20000</td>\n",
       "      <td>HN</td>\n",
       "      <td>0</td>\n",
       "      <td>HN</td>\n",
       "      <td>S</td>\n",
       "    </tr>\n",
       "    <tr>\n",
       "      <th>4</th>\n",
       "      <td>2020</td>\n",
       "      <td>SE</td>\n",
       "      <td>FT</td>\n",
       "      <td>Machine Learning Engineer</td>\n",
       "      <td>150000</td>\n",
       "      <td>USD</td>\n",
       "      <td>150000</td>\n",
       "      <td>US</td>\n",
       "      <td>50</td>\n",
       "      <td>US</td>\n",
       "      <td>L</td>\n",
       "    </tr>\n",
       "    <tr>\n",
       "      <th>...</th>\n",
       "      <td>...</td>\n",
       "      <td>...</td>\n",
       "      <td>...</td>\n",
       "      <td>...</td>\n",
       "      <td>...</td>\n",
       "      <td>...</td>\n",
       "      <td>...</td>\n",
       "      <td>...</td>\n",
       "      <td>...</td>\n",
       "      <td>...</td>\n",
       "      <td>...</td>\n",
       "    </tr>\n",
       "    <tr>\n",
       "      <th>602</th>\n",
       "      <td>2022</td>\n",
       "      <td>SE</td>\n",
       "      <td>FT</td>\n",
       "      <td>Data Engineer</td>\n",
       "      <td>154000</td>\n",
       "      <td>USD</td>\n",
       "      <td>154000</td>\n",
       "      <td>US</td>\n",
       "      <td>100</td>\n",
       "      <td>US</td>\n",
       "      <td>M</td>\n",
       "    </tr>\n",
       "    <tr>\n",
       "      <th>603</th>\n",
       "      <td>2022</td>\n",
       "      <td>SE</td>\n",
       "      <td>FT</td>\n",
       "      <td>Data Engineer</td>\n",
       "      <td>126000</td>\n",
       "      <td>USD</td>\n",
       "      <td>126000</td>\n",
       "      <td>US</td>\n",
       "      <td>100</td>\n",
       "      <td>US</td>\n",
       "      <td>M</td>\n",
       "    </tr>\n",
       "    <tr>\n",
       "      <th>604</th>\n",
       "      <td>2022</td>\n",
       "      <td>SE</td>\n",
       "      <td>FT</td>\n",
       "      <td>Data Analyst</td>\n",
       "      <td>129000</td>\n",
       "      <td>USD</td>\n",
       "      <td>129000</td>\n",
       "      <td>US</td>\n",
       "      <td>0</td>\n",
       "      <td>US</td>\n",
       "      <td>M</td>\n",
       "    </tr>\n",
       "    <tr>\n",
       "      <th>605</th>\n",
       "      <td>2022</td>\n",
       "      <td>SE</td>\n",
       "      <td>FT</td>\n",
       "      <td>Data Analyst</td>\n",
       "      <td>150000</td>\n",
       "      <td>USD</td>\n",
       "      <td>150000</td>\n",
       "      <td>US</td>\n",
       "      <td>100</td>\n",
       "      <td>US</td>\n",
       "      <td>M</td>\n",
       "    </tr>\n",
       "    <tr>\n",
       "      <th>606</th>\n",
       "      <td>2022</td>\n",
       "      <td>MI</td>\n",
       "      <td>FT</td>\n",
       "      <td>AI Scientist</td>\n",
       "      <td>200000</td>\n",
       "      <td>USD</td>\n",
       "      <td>200000</td>\n",
       "      <td>IN</td>\n",
       "      <td>100</td>\n",
       "      <td>US</td>\n",
       "      <td>L</td>\n",
       "    </tr>\n",
       "  </tbody>\n",
       "</table>\n",
       "<p>607 rows × 11 columns</p>\n",
       "</div>"
      ],
      "text/plain": [
       "     work_year experience_level employment_type                   job_title  \\\n",
       "0         2020               MI              FT              Data Scientist   \n",
       "1         2020               SE              FT  Machine Learning Scientist   \n",
       "2         2020               SE              FT           Big Data Engineer   \n",
       "3         2020               MI              FT        Product Data Analyst   \n",
       "4         2020               SE              FT   Machine Learning Engineer   \n",
       "..         ...              ...             ...                         ...   \n",
       "602       2022               SE              FT               Data Engineer   \n",
       "603       2022               SE              FT               Data Engineer   \n",
       "604       2022               SE              FT                Data Analyst   \n",
       "605       2022               SE              FT                Data Analyst   \n",
       "606       2022               MI              FT                AI Scientist   \n",
       "\n",
       "     salary salary_currency  salary_in_usd employee_residence  remote_ratio  \\\n",
       "0     70000             EUR          79833                 DE             0   \n",
       "1    260000             USD         260000                 JP             0   \n",
       "2     85000             GBP         109024                 GB            50   \n",
       "3     20000             USD          20000                 HN             0   \n",
       "4    150000             USD         150000                 US            50   \n",
       "..      ...             ...            ...                ...           ...   \n",
       "602  154000             USD         154000                 US           100   \n",
       "603  126000             USD         126000                 US           100   \n",
       "604  129000             USD         129000                 US             0   \n",
       "605  150000             USD         150000                 US           100   \n",
       "606  200000             USD         200000                 IN           100   \n",
       "\n",
       "    company_location company_size  \n",
       "0                 DE            L  \n",
       "1                 JP            S  \n",
       "2                 GB            M  \n",
       "3                 HN            S  \n",
       "4                 US            L  \n",
       "..               ...          ...  \n",
       "602               US            M  \n",
       "603               US            M  \n",
       "604               US            M  \n",
       "605               US            M  \n",
       "606               US            L  \n",
       "\n",
       "[607 rows x 11 columns]"
      ]
     },
     "execution_count": 105,
     "metadata": {},
     "output_type": "execute_result"
    }
   ],
   "source": [
    "data"
   ]
  },
  {
   "cell_type": "markdown",
   "metadata": {},
   "source": [
    "Osserviamo che le istanze sono 607 e che sono presenti 11 features di cui 7 sono di tipo object. Il dataset così caricato occupa un eccessivo spazio in memoria per cui lo carichiamo nuovamente specificando quali dati adottare come categorici. In particolare segnaliamo come categorico: il livello di esperienza, il tipo di lavoro, il tipo di mansione, la valuta, la residenza del lavoratore, la locazione della sede e le dimensioni aziendali."
   ]
  },
  {
   "cell_type": "code",
   "execution_count": 106,
   "metadata": {},
   "outputs": [],
   "source": [
    "categorical = [\"experience_level\", \"employment_type\", \"job_title\", \"salary_currency\", \"employee_residence\", \n",
    "               \"company_location\", \"company_size\"];"
   ]
  },
  {
   "cell_type": "code",
   "execution_count": 107,
   "metadata": {},
   "outputs": [],
   "source": [
    "data = pd.read_csv(\"ds_salaries.csv\", index_col=0, dtype={x:\"category\" for x in categorical});"
   ]
  },
  {
   "cell_type": "code",
   "execution_count": 108,
   "metadata": {},
   "outputs": [
    {
     "name": "stdout",
     "output_type": "stream",
     "text": [
      "<class 'pandas.core.frame.DataFrame'>\n",
      "Int64Index: 607 entries, 0 to 606\n",
      "Columns: 11 entries, work_year to company_size\n",
      "dtypes: category(7), int64(4)\n",
      "memory usage: 48.0 KB\n"
     ]
    }
   ],
   "source": [
    "data.info(verbose=False, memory_usage=\"deep\");"
   ]
  },
  {
   "cell_type": "markdown",
   "metadata": {},
   "source": [
    "Alcune feature non sono rilevanti per il nostro problema quindi possiamo rimuovere le colonne dal dataframe. "
   ]
  },
  {
   "cell_type": "code",
   "execution_count": 109,
   "metadata": {},
   "outputs": [],
   "source": [
    "data = data.drop(['salary', 'salary_currency', 'employee_residence'], axis=1)"
   ]
  },
  {
   "cell_type": "markdown",
   "metadata": {},
   "source": [
    "Le feature che abbiamo conservato sono le seguenti:\n",
    "- `work_year`: L'anno in cui è stato percepito il salario.\n",
    "- `experience_level`: Il livello di esperienza del lavoratore, durante l'anno lavorativo.\n",
    "- `employment_type`: Il tipo di lavoro (in termini di orario). \n",
    "- `job_title`: Il ruolo ricoperto durante l'anno lavorativo.\t\n",
    "- `remote_ratio`: La quantità complessiva di lavoro svolto da remoto. \n",
    "- `company_location`:\tIl paese della sede principale del datore di lavoro o della succursale appaltante rispettando lo standard del codice paese ISO 3166.\n",
    "- `company_size`:\tIl numero medio di persone che hanno lavorato per l'azienda durante l'anno lavorativo.\n"
   ]
  },
  {
   "cell_type": "code",
   "execution_count": 110,
   "metadata": {},
   "outputs": [
    {
     "data": {
      "text/plain": [
       "['work_year',\n",
       " 'experience_level',\n",
       " 'employment_type',\n",
       " 'job_title',\n",
       " 'remote_ratio',\n",
       " 'company_location',\n",
       " 'company_size']"
      ]
     },
     "execution_count": 110,
     "metadata": {},
     "output_type": "execute_result"
    }
   ],
   "source": [
    "[f for f in list(data) if f != 'salary_in_usd']"
   ]
  },
  {
   "cell_type": "markdown",
   "metadata": {},
   "source": [
    "# Esplorazione e pulizia dei dati"
   ]
  },
  {
   "cell_type": "markdown",
   "metadata": {},
   "source": [
    "Visualizziamo qualche statistica in merito ai dati in nostro possesso e prepariamo i dati caricati ad essere elaborati dal modello. \n",
    "\n",
    "Prima di tutto utilizziamo il comando `describe()` di Pandas per visualizzare qualche dato rilevante per le feature di tipo intero come la media, la deviazione standard e i percentili."
   ]
  },
  {
   "cell_type": "code",
   "execution_count": 111,
   "metadata": {},
   "outputs": [
    {
     "data": {
      "text/html": [
       "<div>\n",
       "<style scoped>\n",
       "    .dataframe tbody tr th:only-of-type {\n",
       "        vertical-align: middle;\n",
       "    }\n",
       "\n",
       "    .dataframe tbody tr th {\n",
       "        vertical-align: top;\n",
       "    }\n",
       "\n",
       "    .dataframe thead th {\n",
       "        text-align: right;\n",
       "    }\n",
       "</style>\n",
       "<table border=\"1\" class=\"dataframe\">\n",
       "  <thead>\n",
       "    <tr style=\"text-align: right;\">\n",
       "      <th></th>\n",
       "      <th>work_year</th>\n",
       "      <th>salary_in_usd</th>\n",
       "      <th>remote_ratio</th>\n",
       "    </tr>\n",
       "  </thead>\n",
       "  <tbody>\n",
       "    <tr>\n",
       "      <th>count</th>\n",
       "      <td>607.000000</td>\n",
       "      <td>607.000000</td>\n",
       "      <td>607.00000</td>\n",
       "    </tr>\n",
       "    <tr>\n",
       "      <th>mean</th>\n",
       "      <td>2021.405272</td>\n",
       "      <td>112297.869852</td>\n",
       "      <td>70.92257</td>\n",
       "    </tr>\n",
       "    <tr>\n",
       "      <th>std</th>\n",
       "      <td>0.692133</td>\n",
       "      <td>70957.259411</td>\n",
       "      <td>40.70913</td>\n",
       "    </tr>\n",
       "    <tr>\n",
       "      <th>min</th>\n",
       "      <td>2020.000000</td>\n",
       "      <td>2859.000000</td>\n",
       "      <td>0.00000</td>\n",
       "    </tr>\n",
       "    <tr>\n",
       "      <th>25%</th>\n",
       "      <td>2021.000000</td>\n",
       "      <td>62726.000000</td>\n",
       "      <td>50.00000</td>\n",
       "    </tr>\n",
       "    <tr>\n",
       "      <th>50%</th>\n",
       "      <td>2022.000000</td>\n",
       "      <td>101570.000000</td>\n",
       "      <td>100.00000</td>\n",
       "    </tr>\n",
       "    <tr>\n",
       "      <th>75%</th>\n",
       "      <td>2022.000000</td>\n",
       "      <td>150000.000000</td>\n",
       "      <td>100.00000</td>\n",
       "    </tr>\n",
       "    <tr>\n",
       "      <th>max</th>\n",
       "      <td>2022.000000</td>\n",
       "      <td>600000.000000</td>\n",
       "      <td>100.00000</td>\n",
       "    </tr>\n",
       "  </tbody>\n",
       "</table>\n",
       "</div>"
      ],
      "text/plain": [
       "         work_year  salary_in_usd  remote_ratio\n",
       "count   607.000000     607.000000     607.00000\n",
       "mean   2021.405272  112297.869852      70.92257\n",
       "std       0.692133   70957.259411      40.70913\n",
       "min    2020.000000    2859.000000       0.00000\n",
       "25%    2021.000000   62726.000000      50.00000\n",
       "50%    2022.000000  101570.000000     100.00000\n",
       "75%    2022.000000  150000.000000     100.00000\n",
       "max    2022.000000  600000.000000     100.00000"
      ]
     },
     "execution_count": 111,
     "metadata": {},
     "output_type": "execute_result"
    }
   ],
   "source": [
    "data.describe()"
   ]
  },
  {
   "cell_type": "markdown",
   "metadata": {},
   "source": [
    "Vediamo ora quanti valori nulli abbiamo nel dataframe per le varie colonne."
   ]
  },
  {
   "cell_type": "code",
   "execution_count": 112,
   "metadata": {},
   "outputs": [
    {
     "data": {
      "text/plain": [
       "work_year           0\n",
       "experience_level    0\n",
       "employment_type     0\n",
       "job_title           0\n",
       "salary_in_usd       0\n",
       "remote_ratio        0\n",
       "company_location    0\n",
       "company_size        0\n",
       "dtype: int64"
      ]
     },
     "execution_count": 112,
     "metadata": {},
     "output_type": "execute_result"
    }
   ],
   "source": [
    "data.shape[0]-data.count()"
   ]
  },
  {
   "cell_type": "markdown",
   "metadata": {},
   "source": [
    "Non ce ne sono, per cui procediamo con altre analisi."
   ]
  },
  {
   "cell_type": "markdown",
   "metadata": {},
   "source": [
    "Osserviamo anche che i dati variano molto all'interno della feature `job_title` e nella feature `company_location` mentre nelle altre feature i dati variano tra 3, al masssimo 4, valori diversi."
   ]
  },
  {
   "cell_type": "code",
   "execution_count": 113,
   "metadata": {},
   "outputs": [
    {
     "name": "stdout",
     "output_type": "stream",
     "text": [
      "work_year:  \t3\n",
      "experience_level:  \t4\n",
      "employment_type:  \t4\n",
      "job_title:  \t50\n",
      "remote_ratio:  \t3\n",
      "company_location:  \t50\n",
      "company_size:  \t3\n"
     ]
    }
   ],
   "source": [
    "for x in ['work_year', 'experience_level', 'employment_type', 'job_title', 'remote_ratio', 'company_location', 'company_size']:\n",
    "    print(x+\":  \\t\"+ str(data[x].nunique()));"
   ]
  },
  {
   "cell_type": "markdown",
   "metadata": {},
   "source": [
    "Riduciamo il numero di valori tra cui possono variare i valori della feature `job_title` e visualizziamoli graficamente tramite un istogramma."
   ]
  },
  {
   "cell_type": "code",
   "execution_count": 114,
   "metadata": {},
   "outputs": [],
   "source": [
    "works = list(data[\"job_title\"].value_counts()[:17].index)\n",
    "#17 con tutti "
   ]
  },
  {
   "cell_type": "code",
   "execution_count": 115,
   "metadata": {},
   "outputs": [],
   "source": [
    "data.drop(data[np.logical_not(data['job_title'].isin(works))].index, inplace=True)"
   ]
  },
  {
   "cell_type": "code",
   "execution_count": 116,
   "metadata": {},
   "outputs": [],
   "source": [
    "import warnings\n",
    "def plot_bar(feature, n, title):\n",
    "    data[feature].value_counts()[:n].plot.bar(figsize=(15, 4))\n",
    "    with warnings.catch_warnings():\n",
    "        warnings.simplefilter('ignore')\n",
    "        plt.axes().set_title(title)\n",
    "        plt.show()"
   ]
  },
  {
   "cell_type": "code",
   "execution_count": 117,
   "metadata": {},
   "outputs": [
    {
     "data": {
      "image/png": "[encoded data removed]",
      "text/plain": [
       "<Figure size 1080x288 with 1 Axes>"
      ]
     },
     "metadata": {
      "needs_background": "light"
     },
     "output_type": "display_data"
    }
   ],
   "source": [
    "plot_bar(\"job_title\", data[\"job_title\"].nunique(), \"Posizioni di lavoro più frequenti\")"
   ]
  },
  {
   "cell_type": "markdown",
   "metadata": {},
   "source": [
    "Eseguiamo lo stesso tipo di operazione sulla feature `company_location`."
   ]
  },
  {
   "cell_type": "code",
   "execution_count": 118,
   "metadata": {},
   "outputs": [],
   "source": [
    "countries = list(data[\"company_location\"].value_counts()[:15].index)\n",
    "#15 con tutti"
   ]
  },
  {
   "cell_type": "code",
   "execution_count": 119,
   "metadata": {},
   "outputs": [],
   "source": [
    "data.drop(data[np.logical_not(data['company_location'].isin(countries))].index, inplace=True)"
   ]
  },
  {
   "cell_type": "code",
   "execution_count": 120,
   "metadata": {},
   "outputs": [
    {
     "data": {
      "image/png": "[encoded data removed]",
      "text/plain": [
       "<Figure size 1080x288 with 1 Axes>"
      ]
     },
     "metadata": {
      "needs_background": "light"
     },
     "output_type": "display_data"
    }
   ],
   "source": [
    "plot_bar(\"company_location\", data[\"job_title\"].nunique(), \"Posizione delle aziende più frequenti\")"
   ]
  },
  {
   "cell_type": "markdown",
   "metadata": {},
   "source": [
    "Visualizziamo graficamente anche i dati delle feature `company_size`, `remote_ratio`, `experience_level` e `employment_type`."
   ]
  },
  {
   "cell_type": "code",
   "execution_count": 121,
   "metadata": {},
   "outputs": [
    {
     "data": {
      "image/png": "[encoded data removed]",
      "text/plain": [
       "<Figure size 1440x720 with 4 Axes>"
      ]
     },
     "metadata": {},
     "output_type": "display_data"
    }
   ],
   "source": [
    "plt.figure(figsize=(20, 10))\n",
    "\n",
    "plt.subplot(2, 3, 1)\n",
    "plt.title('Dimensioni aziendali')\n",
    "data['company_size'].value_counts().plot.pie(autopct='%1.1f%%')\n",
    "\n",
    "plt.subplot(2, 3, 2)\n",
    "plt.title('Percentuale di lavoro da remoto')\n",
    "data['remote_ratio'].value_counts().plot.pie(autopct='%1.1f%%')\n",
    "\n",
    "plt.subplot(2, 3, 3)\n",
    "plt.title('Esperienza del lavoratore')\n",
    "data['experience_level'].value_counts().plot.pie(autopct='%1.1f%%')\n",
    "\n",
    "plt.subplot(2, 3, 4)\n",
    "plt.title('Tipo di lavoro')\n",
    "data['employment_type'].value_counts().plot.pie(autopct='%1.1f%%')\n",
    "\n",
    "plt.show()"
   ]
  },
  {
   "cell_type": "markdown",
   "metadata": {},
   "source": [
    "Osserviamo che il valore della feature `employment_type` è per il 98,1% uguale a \"FT\". \n",
    "Procediamo dunque ad eliminare le istanze che hanno un valore diverso da \"FT\", vista la scarsa numerosità campionaria, ed eliminiamo la feature che abbiamo riscontrato non essere rilevante. "
   ]
  },
  {
   "cell_type": "code",
   "execution_count": 122,
   "metadata": {},
   "outputs": [],
   "source": [
    "data.drop(data[data['employment_type'] != \"FT\"].index, inplace=True)"
   ]
  },
  {
   "cell_type": "code",
   "execution_count": 123,
   "metadata": {},
   "outputs": [],
   "source": [
    "data.drop(['employment_type'], axis=1, inplace=True)"
   ]
  },
  {
   "cell_type": "markdown",
   "metadata": {},
   "source": [
    "Analizziamo ora la variabile da predirre `salary_in_usd`. Utilizziamo il comando `describe()` di Pandas per visualizzare qualche misura rilevante per il salario come la media, la deviazione standard e i percentili."
   ]
  },
  {
   "cell_type": "code",
   "execution_count": 124,
   "metadata": {},
   "outputs": [
    {
     "data": {
      "text/plain": [
       "count       472.000000\n",
       "mean     115422.709746\n",
       "std       60999.491782\n",
       "min        5679.000000\n",
       "25%       70409.750000\n",
       "50%      109640.000000\n",
       "75%      150018.750000\n",
       "max      450000.000000\n",
       "Name: salary_in_usd, dtype: float64"
      ]
     },
     "execution_count": 124,
     "metadata": {},
     "output_type": "execute_result"
    }
   ],
   "source": [
    "data['salary_in_usd'].describe()"
   ]
  },
  {
   "cell_type": "markdown",
   "metadata": {},
   "source": [
    "Osserviamo infine come si distribuiscono i salari attraverso alcuni grafici."
   ]
  },
  {
   "cell_type": "code",
   "execution_count": 125,
   "metadata": {},
   "outputs": [
    {
     "data": {
      "text/plain": [
       "<matplotlib.collections.PathCollection at 0x238139f06a0>"
      ]
     },
     "execution_count": 125,
     "metadata": {},
     "output_type": "execute_result"
    },
    {
     "data": {
      "image/png": "[encoded data removed]",
      "text/plain": [
       "<Figure size 432x288 with 1 Axes>"
      ]
     },
     "metadata": {
      "needs_background": "light"
     },
     "output_type": "display_data"
    }
   ],
   "source": [
    "plt.scatter(data[\"salary_in_usd\"].index, data[\"salary_in_usd\"].values)"
   ]
  },
  {
   "cell_type": "code",
   "execution_count": 126,
   "metadata": {},
   "outputs": [
    {
     "data": {
      "text/plain": [
       "<AxesSubplot:>"
      ]
     },
     "execution_count": 126,
     "metadata": {},
     "output_type": "execute_result"
    },
    {
     "data": {
      "image/png": "[encoded data removed]",
      "text/plain": [
       "<Figure size 432x288 with 1 Axes>"
      ]
     },
     "metadata": {
      "needs_background": "light"
     },
     "output_type": "display_data"
    }
   ],
   "source": [
    "data[\"salary_in_usd\"].plot.box()"
   ]
  },
  {
   "cell_type": "markdown",
   "metadata": {},
   "source": [
    "Dall'ultimo grafico osserviamo che ci sono valori molto distanti tra loro all'interno della feature. Per cui decidiamo di eliminare i dati che contengono un salario maggiore di un un certo importo adottato come soglia."
   ]
  },
  {
   "cell_type": "code",
   "execution_count": 127,
   "metadata": {},
   "outputs": [],
   "source": [
    "data.drop(data[np.logical_not(data['salary_in_usd'].isin([n for n in range(0, 350000)]))].index, inplace=True)"
   ]
  },
  {
   "cell_type": "markdown",
   "metadata": {},
   "source": [
    "Osserviamo ora gli stessi grafici visualizzati in precedenza dopo aver eliminato le istanze con valori oltre la soglia e notiamo un miglioramento nella distribuzione di essi."
   ]
  },
  {
   "cell_type": "code",
   "execution_count": 128,
   "metadata": {},
   "outputs": [
    {
     "data": {
      "text/plain": [
       "<matplotlib.collections.PathCollection at 0x238136fc6d0>"
      ]
     },
     "execution_count": 128,
     "metadata": {},
     "output_type": "execute_result"
    },
    {
     "data": {
      "image/png": "[encoded data removed]",
      "text/plain": [
       "<Figure size 432x288 with 1 Axes>"
      ]
     },
     "metadata": {
      "needs_background": "light"
     },
     "output_type": "display_data"
    }
   ],
   "source": [
    "plt.scatter(data[\"salary_in_usd\"].index, data[\"salary_in_usd\"].values)"
   ]
  },
  {
   "cell_type": "code",
   "execution_count": 129,
   "metadata": {},
   "outputs": [
    {
     "data": {
      "text/plain": [
       "<AxesSubplot:>"
      ]
     },
     "execution_count": 129,
     "metadata": {},
     "output_type": "execute_result"
    },
    {
     "data": {
      "image/png": "[encoded data removed]",
      "text/plain": [
       "<Figure size 432x288 with 1 Axes>"
      ]
     },
     "metadata": {
      "needs_background": "light"
     },
     "output_type": "display_data"
    }
   ],
   "source": [
    "data[\"salary_in_usd\"].plot.box()"
   ]
  },
  {
   "cell_type": "markdown",
   "metadata": {},
   "source": [
    "Esaminando la correlazione tra coppie di feature osserviamo il legame che intercorre, ad esempio, tra la variabile `company_size` e `salary_in_usd`."
   ]
  },
  {
   "cell_type": "code",
   "execution_count": 130,
   "metadata": {},
   "outputs": [
    {
     "data": {
      "text/plain": [
       "<matplotlib.collections.PathCollection at 0x2381153dbb0>"
      ]
     },
     "execution_count": 130,
     "metadata": {},
     "output_type": "execute_result"
    },
    {
     "data": {
      "image/png": "[encoded data removed]",
      "text/plain": [
       "<Figure size 432x288 with 1 Axes>"
      ]
     },
     "metadata": {
      "needs_background": "light"
     },
     "output_type": "display_data"
    }
   ],
   "source": [
    "avg_salary = []\n",
    "for i in [\"S\", \"M\", \"L\"]:\n",
    "    avg_salary.append(data[data[\"company_size\"]== i][\"salary_in_usd\"].mean())\n",
    "avg_salary = pd.Series(avg_salary)\n",
    "plt.xlabel(\"company_size\");\n",
    "plt.ylabel(\"salary_in_usd\");\n",
    "plt.scatter([\"S\", \"M\", \"L\"], avg_salary)"
   ]
  },
  {
   "cell_type": "markdown",
   "metadata": {},
   "source": [
    "Possiamo osservare dal grafico che le due feature non sono correlate siccome i valori non giaciono sulla stessa retta dunque la dimensione aziendale non è legata alla media degli stipendi.\n",
    "\n",
    "In seguito analizziamo la correlazione tra la feature `experience_level` e il `salary_in_usd`."
   ]
  },
  {
   "cell_type": "code",
   "execution_count": 131,
   "metadata": {},
   "outputs": [
    {
     "data": {
      "text/plain": [
       "<matplotlib.collections.PathCollection at 0x23815d04d30>"
      ]
     },
     "execution_count": 131,
     "metadata": {},
     "output_type": "execute_result"
    },
    {
     "data": {
      "image/png": "[encoded data removed]",
      "text/plain": [
       "<Figure size 432x288 with 1 Axes>"
      ]
     },
     "metadata": {
      "needs_background": "light"
     },
     "output_type": "display_data"
    }
   ],
   "source": [
    "avg_salary = []\n",
    "for i in [\"EN\", \"MI\", \"SE\", \"EX\"]:\n",
    "    avg_salary.append(data[data[\"experience_level\"]== i][\"salary_in_usd\"].mean())\n",
    "avg_salary = pd.Series(avg_salary)\n",
    "plt.xlabel(\"experience_level\");\n",
    "plt.ylabel(\"salary_in_usd\");\n",
    "plt.scatter([\"EN\", \"MI\", \"SE\", \"EX\"], avg_salary)"
   ]
  },
  {
   "cell_type": "markdown",
   "metadata": {},
   "source": [
    "In questo caso notiamo un associazione tra la media degli stipendi per ogni livello di esperienza e il grado di esperienza quindi possiamo definire che all'aumentare del grado di esperienza corrisponda un aumento del salario."
   ]
  },
  {
   "cell_type": "markdown",
   "metadata": {},
   "source": [
    "# Preparazione del modello"
   ]
  },
  {
   "cell_type": "markdown",
   "metadata": {},
   "source": [
    "Una volta conclusa la preparazione del dataset ci occupiamo del modello. \n",
    "\n",
    "Dapprima convertiamo le features categoriche di modo che ad ogni colonna corrisponda un valore. Eseguiamo questa operazione sulle fetures `experience_level`, `employment_type`, `job_title`, `company_location`, `company_size` facendo attenzione a conservare una copia del DataFrame che potrebbe servire in seguito."
   ]
  },
  {
   "cell_type": "code",
   "execution_count": 132,
   "metadata": {},
   "outputs": [],
   "source": [
    "categorical_features = [\"experience_level\", \"employment_type\", \"job_title\", \"company_location\", \"company_size\"];"
   ]
  },
  {
   "cell_type": "code",
   "execution_count": 133,
   "metadata": {},
   "outputs": [],
   "source": [
    "data_reduced = data"
   ]
  },
  {
   "cell_type": "code",
   "execution_count": 134,
   "metadata": {},
   "outputs": [],
   "source": [
    "data = pd.get_dummies(data, prefix=None)"
   ]
  },
  {
   "cell_type": "markdown",
   "metadata": {},
   "source": [
    "A questo punto separiamo le features dalla variabile da predirre e dividiamo il dataset di modo che una parte di esso possa essere usata per il traning ed un'altra per la validation."
   ]
  },
  {
   "cell_type": "code",
   "execution_count": 135,
   "metadata": {},
   "outputs": [],
   "source": [
    "X = data.drop('salary_in_usd', axis=1)\n",
    "y = data['salary_in_usd']"
   ]
  },
  {
   "cell_type": "code",
   "execution_count": 136,
   "metadata": {},
   "outputs": [],
   "source": [
    "from sklearn.model_selection import train_test_split\n",
    "from sklearn.feature_extraction.text import TfidfVectorizer"
   ]
  },
  {
   "cell_type": "code",
   "execution_count": 137,
   "metadata": {},
   "outputs": [],
   "source": [
    "X_train, X_val, y_train, y_val = train_test_split(X, y, test_size=1/3, random_state=42)\n",
    "\n",
    "index = X_train.columns.values.tolist()"
   ]
  },
  {
   "cell_type": "markdown",
   "metadata": {},
   "source": [
    "Iniziamo ora a creare i vari modelli di regressione, a tale scopo utilizzeremo le Pipeline di sklearn.\n",
    "\n",
    "Prima di tutto importiamo le librerie necessarie:"
   ]
  },
  {
   "cell_type": "code",
   "execution_count": 138,
   "metadata": {},
   "outputs": [],
   "source": [
    "from sklearn.pipeline import Pipeline\n",
    "from sklearn.preprocessing import StandardScaler, MinMaxScaler, PolynomialFeatures"
   ]
  },
  {
   "cell_type": "markdown",
   "metadata": {},
   "source": [
    "Importiamo anche la GridSearch che ci aiuterà ad individuare un set di iperparametri che massimizzi l'accuratezza del modello."
   ]
  },
  {
   "cell_type": "code",
   "execution_count": 139,
   "metadata": {},
   "outputs": [],
   "source": [
    "#sopprimiamo i warning della GridSearch\n",
    "from sklearn.model_selection import GridSearchCV\n",
    "import warnings\n",
    "warnings.filterwarnings(\"ignore\")"
   ]
  },
  {
   "cell_type": "markdown",
   "metadata": {},
   "source": [
    "Definiamo ora qualche funzione che ci sarà utile per valutare i vari modelli di regressione."
   ]
  },
  {
   "cell_type": "code",
   "execution_count": 140,
   "metadata": {},
   "outputs": [],
   "source": [
    "from sklearn.metrics import mean_squared_error, r2_score\n",
    "from statsmodels.stats.proportion import proportion_confint\n",
    "\n",
    "def relative_error(y_true, y_pred):\n",
    "    return np.mean(np.abs((y_true - y_pred) / y_true))\n",
    "\n",
    "def print_eval(X, y, model):\n",
    "    preds = model.predict(X)\n",
    "    mse = mean_squared_error(y, preds)\n",
    "    re = relative_error(y, preds)\n",
    "    r2 = r2_score(y, preds)\n",
    "    print(f\"   Mean squared error: {mse:.5}\")\n",
    "    print(f\"       Relative error: {re:.5%}\")\n",
    "    print(f\"R-squared coefficient: {r2:.5}\")\n",
    "\n",
    "def confidence_interval(instance, acc, confidence):    \n",
    "    return proportion_confint(instance * acc, instance, 1-confidence/100, method='wilson')"
   ]
  },
  {
   "cell_type": "markdown",
   "metadata": {},
   "source": [
    "E una funzione che ci sarà utile per valutare quali sono gli iperparametri migliori della grid serch."
   ]
  },
  {
   "cell_type": "code",
   "execution_count": 141,
   "metadata": {},
   "outputs": [],
   "source": [
    "from sklearn.model_selection import KFold\n",
    "from sklearn.model_selection import cross_validate\n",
    "\n",
    "def grid_test(model, grid):\n",
    "    kf = KFold(5, shuffle=True, random_state=42)\n",
    "    gs = GridSearchCV(model, grid, cv=kf)\n",
    "    gs.fit(X_train, y_train)\n",
    "    print(gs.best_params_)\n",
    "    cv_results = cross_validate(model, X, y, cv=kf)\n",
    "    cv_scores = cv_results[\"test_score\"]\n",
    "    print(\"--------------------------------\")\n",
    "    print(f\"           Mean scores: {cv_scores.mean():.5%}\")\n",
    "    print(f\"            Std scores: {cv_scores.std():.5}\")\n",
    "    print(\"--------------------------------\")\n",
    "    print_eval(X_val, y_val, gs)\n",
    "    return gs"
   ]
  },
  {
   "cell_type": "markdown",
   "metadata": {},
   "source": [
    "Procediamo ora con l'implementazione dei modelli di regressione."
   ]
  },
  {
   "cell_type": "markdown",
   "metadata": {},
   "source": [
    "**Regressione Lineare**\n",
    "\n",
    "Come primo modello testiamo la regressione lineare."
   ]
  },
  {
   "cell_type": "code",
   "execution_count": 142,
   "metadata": {},
   "outputs": [],
   "source": [
    "from sklearn.linear_model import LinearRegression\n",
    "from sklearn.model_selection import KFold\n",
    "from sklearn.model_selection import cross_val_score"
   ]
  },
  {
   "cell_type": "code",
   "execution_count": 143,
   "metadata": {},
   "outputs": [
    {
     "name": "stdout",
     "output_type": "stream",
     "text": [
      "-1.3822093946913488e+26\n"
     ]
    }
   ],
   "source": [
    "linear_model = Pipeline([\n",
    "    (\"scale\",  StandardScaler(with_mean=False)),\n",
    "    (\"linreg\", LinearRegression())\n",
    "])\n",
    "scores = cross_val_score(linear_model,X_train , y_train, cv=5)\n",
    "print(scores.mean())"
   ]
  },
  {
   "cell_type": "markdown",
   "metadata": {},
   "source": [
    "Visti i risultati pessimi della regressione lineare valutiamo di adottare un approccio polinomiale."
   ]
  },
  {
   "cell_type": "code",
   "execution_count": 144,
   "metadata": {},
   "outputs": [
    {
     "name": "stdout",
     "output_type": "stream",
     "text": [
      "-3.2736367332915827e+27\n"
     ]
    }
   ],
   "source": [
    "linear_model = Pipeline([\n",
    "    (\"poly\", PolynomialFeatures(degree=3, include_bias=False)),\n",
    "    (\"scale\",  StandardScaler(with_mean=False)),\n",
    "    (\"linreg\", LinearRegression())\n",
    "])\n",
    "kf = KFold(5, shuffle=True, random_state=42)\n",
    "scores = cross_val_score(linear_model,X_train , y_train, cv=kf)\n",
    "print(scores.mean())"
   ]
  },
  {
   "cell_type": "markdown",
   "metadata": {},
   "source": [
    "Notiamo come l'accuratezza raggiunta, sia con l'approccio polinomiale che con l'approcio lineare sia pessima. Escludiamo dunque la regressione linare dai modelli che possiamo considerare e valutiamo qualche modello di regressione non lineare, che applichi la regolarizzazione, con lo scopo di modificare la funzione d'errore su cui si basa l'addestramento."
   ]
  },
  {
   "cell_type": "markdown",
   "metadata": {},
   "source": [
    "**Regressione Ridge**\n",
    "\n",
    "Importiamo e testiamo, come secondo modello di regressione non lineare, il modello Ridge. La regressione _Ridge_ è un tipo di regressione lineare con regolarizzazione L2. La regolarizzazione L2 è basata sulla norma 2 (norma euclidea) e impedisce che i parametri del modello assumano valori troppo alti. Cerchiamo di capire se può essere un modello sufficientemente accurato."
   ]
  },
  {
   "cell_type": "code",
   "execution_count": 145,
   "metadata": {},
   "outputs": [],
   "source": [
    "from sklearn.linear_model import Ridge"
   ]
  },
  {
   "cell_type": "code",
   "execution_count": 1,
   "metadata": {},
   "outputs": [
    {
     "ename": "NameError",
     "evalue": "name 'Pipeline' is not defined",
     "output_type": "error",
     "traceback": [
      "\u001b[1;31m---------------------------------------------------------------------------\u001b[0m",
      "\u001b[1;31mNameError\u001b[0m                                 Traceback (most recent call last)",
      "\u001b[1;32m<ipython-input-1-d12341845c09>\u001b[0m in \u001b[0;36m<module>\u001b[1;34m\u001b[0m\n\u001b[1;32m----> 1\u001b[1;33m model = Pipeline([\n\u001b[0m\u001b[0;32m      2\u001b[0m     \u001b[1;33m(\u001b[0m\u001b[1;34m\"scale\"\u001b[0m\u001b[1;33m,\u001b[0m  \u001b[0mStandardScaler\u001b[0m\u001b[1;33m(\u001b[0m\u001b[0mwith_mean\u001b[0m\u001b[1;33m=\u001b[0m\u001b[1;32mFalse\u001b[0m\u001b[1;33m)\u001b[0m\u001b[1;33m)\u001b[0m\u001b[1;33m,\u001b[0m\u001b[1;33m\u001b[0m\u001b[1;33m\u001b[0m\u001b[0m\n\u001b[0;32m      3\u001b[0m     \u001b[1;33m(\u001b[0m\u001b[1;34m\"linreg\"\u001b[0m\u001b[1;33m,\u001b[0m \u001b[0mRidge\u001b[0m\u001b[1;33m(\u001b[0m\u001b[1;33m)\u001b[0m\u001b[1;33m)\u001b[0m\u001b[1;33m\u001b[0m\u001b[1;33m\u001b[0m\u001b[0m\n\u001b[0;32m      4\u001b[0m ])\n",
      "\u001b[1;31mNameError\u001b[0m: name 'Pipeline' is not defined"
     ]
    }
   ],
   "source": [
    "model = Pipeline([\n",
    "    (\"scale\",  StandardScaler(with_mean=False)),\n",
    "    (\"linreg\", Ridge())\n",
    "])"
   ]
  },
  {
   "cell_type": "markdown",
   "metadata": {},
   "source": [
    "Utilizziamo la grid search per individuare un set di iperparametri che massimizzi l'accuratezza e visualizziamone i risultati."
   ]
  },
  {
   "cell_type": "code",
   "execution_count": 147,
   "metadata": {},
   "outputs": [],
   "source": [
    "grid = {\n",
    "    \"scale\": [MinMaxScaler(), StandardScaler()],\n",
    "    \"linreg__alpha\":  [0.1, 1, 10, 50]\n",
    "}\n",
    "gs = GridSearchCV(model, param_grid=grid, cv=5)"
   ]
  },
  {
   "cell_type": "code",
   "execution_count": 148,
   "metadata": {},
   "outputs": [
    {
     "data": {
      "text/html": [
       "<div>\n",
       "<style scoped>\n",
       "    .dataframe tbody tr th:only-of-type {\n",
       "        vertical-align: middle;\n",
       "    }\n",
       "\n",
       "    .dataframe tbody tr th {\n",
       "        vertical-align: top;\n",
       "    }\n",
       "\n",
       "    .dataframe thead th {\n",
       "        text-align: right;\n",
       "    }\n",
       "</style>\n",
       "<table border=\"1\" class=\"dataframe\">\n",
       "  <thead>\n",
       "    <tr style=\"text-align: right;\">\n",
       "      <th></th>\n",
       "      <th>rank_test_score</th>\n",
       "      <th>mean_test_score</th>\n",
       "      <th>params</th>\n",
       "    </tr>\n",
       "  </thead>\n",
       "  <tbody>\n",
       "    <tr>\n",
       "      <th>0</th>\n",
       "      <td>1</td>\n",
       "      <td>0.529833</td>\n",
       "      <td>{'linreg__alpha': 0.1, 'scale': MinMaxScaler()}</td>\n",
       "    </tr>\n",
       "    <tr>\n",
       "      <th>5</th>\n",
       "      <td>2</td>\n",
       "      <td>0.521992</td>\n",
       "      <td>{'linreg__alpha': 10, 'scale': StandardScaler()}</td>\n",
       "    </tr>\n",
       "    <tr>\n",
       "      <th>7</th>\n",
       "      <td>3</td>\n",
       "      <td>0.518803</td>\n",
       "      <td>{'linreg__alpha': 50, 'scale': StandardScaler()}</td>\n",
       "    </tr>\n",
       "    <tr>\n",
       "      <th>3</th>\n",
       "      <td>4</td>\n",
       "      <td>0.518757</td>\n",
       "      <td>{'linreg__alpha': 1, 'scale': StandardScaler()}</td>\n",
       "    </tr>\n",
       "    <tr>\n",
       "      <th>1</th>\n",
       "      <td>5</td>\n",
       "      <td>0.518198</td>\n",
       "      <td>{'linreg__alpha': 0.1, 'scale': StandardScaler()}</td>\n",
       "    </tr>\n",
       "    <tr>\n",
       "      <th>2</th>\n",
       "      <td>6</td>\n",
       "      <td>0.507696</td>\n",
       "      <td>{'linreg__alpha': 1, 'scale': MinMaxScaler()}</td>\n",
       "    </tr>\n",
       "    <tr>\n",
       "      <th>4</th>\n",
       "      <td>7</td>\n",
       "      <td>0.445353</td>\n",
       "      <td>{'linreg__alpha': 10, 'scale': MinMaxScaler()}</td>\n",
       "    </tr>\n",
       "    <tr>\n",
       "      <th>6</th>\n",
       "      <td>8</td>\n",
       "      <td>0.343027</td>\n",
       "      <td>{'linreg__alpha': 50, 'scale': MinMaxScaler()}</td>\n",
       "    </tr>\n",
       "  </tbody>\n",
       "</table>\n",
       "</div>"
      ],
      "text/plain": [
       "   rank_test_score  mean_test_score  \\\n",
       "0                1         0.529833   \n",
       "5                2         0.521992   \n",
       "7                3         0.518803   \n",
       "3                4         0.518757   \n",
       "1                5         0.518198   \n",
       "2                6         0.507696   \n",
       "4                7         0.445353   \n",
       "6                8         0.343027   \n",
       "\n",
       "                                              params  \n",
       "0    {'linreg__alpha': 0.1, 'scale': MinMaxScaler()}  \n",
       "5   {'linreg__alpha': 10, 'scale': StandardScaler()}  \n",
       "7   {'linreg__alpha': 50, 'scale': StandardScaler()}  \n",
       "3    {'linreg__alpha': 1, 'scale': StandardScaler()}  \n",
       "1  {'linreg__alpha': 0.1, 'scale': StandardScaler()}  \n",
       "2      {'linreg__alpha': 1, 'scale': MinMaxScaler()}  \n",
       "4     {'linreg__alpha': 10, 'scale': MinMaxScaler()}  \n",
       "6     {'linreg__alpha': 50, 'scale': MinMaxScaler()}  "
      ]
     },
     "execution_count": 148,
     "metadata": {},
     "output_type": "execute_result"
    }
   ],
   "source": [
    "gs.fit(X_train, y_train)\n",
    "sel = [\"rank_test_score\",\"mean_test_score\",\"params\"]\n",
    "pd.DataFrame(gs.cv_results_).sort_values(\"mean_test_score\", ascending=False)[sel]"
   ]
  },
  {
   "cell_type": "code",
   "execution_count": 149,
   "metadata": {},
   "outputs": [
    {
     "name": "stdout",
     "output_type": "stream",
     "text": [
      "Interval with confidence 95%: \n",
      "Pmin = 40.1422%\n",
      "Pmax = 55.5820%\n"
     ]
    }
   ],
   "source": [
    "confidence = 95\n",
    "lower, upper = confidence_interval(len(X_val), gs.score(X_val, y_val), confidence)\n",
    "\n",
    "print('Interval with confidence {}%: \\nPmin = {:.4f}%\\nPmax = {:.4f}%'.format(confidence, lower*100, upper*100))"
   ]
  },
  {
   "cell_type": "markdown",
   "metadata": {},
   "source": [
    "I risultati utilizzando la regressione Ridge sembrano accettabili. \n",
    "\n",
    "Considerando che il numero dei parametri è abbastanza alto, evitiamo di utilizzare la regressione polinomiale che comporterebbe un aumento del numero di feature e quindi dei tempi d'esecuzione."
   ]
  },
  {
   "cell_type": "markdown",
   "metadata": {},
   "source": [
    "**Regressione Lasso**\n",
    "\n",
    "Importiamo e testiamo, come secondo modello di regressione non lineare, il modello Lasso. La regressione _Lasso_ è un tipo di regressione lineare ma con regolarizzazione L1. La regolarizzazione L1 è basata sulla norma 1 e permette l'addestramento di un modello poco complesso nel quale vengono ignorate le variabili poco rilevanti. Cerchiamo di capire se può essere un modello sufficientemente accurato."
   ]
  },
  {
   "cell_type": "code",
   "execution_count": 150,
   "metadata": {},
   "outputs": [],
   "source": [
    "from sklearn.linear_model import Lasso"
   ]
  },
  {
   "cell_type": "code",
   "execution_count": 151,
   "metadata": {},
   "outputs": [],
   "source": [
    "model = Pipeline([\n",
    "    (\"scale\",  StandardScaler(with_mean=False)),\n",
    "    (\"linreg\", Lasso())\n",
    "])"
   ]
  },
  {
   "cell_type": "markdown",
   "metadata": {},
   "source": [
    "Utilizziamo la grid search per individuare un set di iperparametri che massimizzi l'accuratezza e visualizziamone i risultati."
   ]
  },
  {
   "cell_type": "code",
   "execution_count": 152,
   "metadata": {},
   "outputs": [],
   "source": [
    "grid = { \n",
    "    \"scale\": [MinMaxScaler(), StandardScaler()],\n",
    "    \"linreg__alpha\": [0.1, 0.5, 1]\n",
    "}\n",
    "gs = GridSearchCV(model, param_grid=grid, cv=5)"
   ]
  },
  {
   "cell_type": "code",
   "execution_count": 153,
   "metadata": {},
   "outputs": [
    {
     "data": {
      "text/html": [
       "<div>\n",
       "<style scoped>\n",
       "    .dataframe tbody tr th:only-of-type {\n",
       "        vertical-align: middle;\n",
       "    }\n",
       "\n",
       "    .dataframe tbody tr th {\n",
       "        vertical-align: top;\n",
       "    }\n",
       "\n",
       "    .dataframe thead th {\n",
       "        text-align: right;\n",
       "    }\n",
       "</style>\n",
       "<table border=\"1\" class=\"dataframe\">\n",
       "  <thead>\n",
       "    <tr style=\"text-align: right;\">\n",
       "      <th></th>\n",
       "      <th>rank_test_score</th>\n",
       "      <th>mean_test_score</th>\n",
       "      <th>params</th>\n",
       "    </tr>\n",
       "  </thead>\n",
       "  <tbody>\n",
       "    <tr>\n",
       "      <th>4</th>\n",
       "      <td>1</td>\n",
       "      <td>0.522186</td>\n",
       "      <td>{'linreg__alpha': 1, 'scale': MinMaxScaler()}</td>\n",
       "    </tr>\n",
       "    <tr>\n",
       "      <th>2</th>\n",
       "      <td>2</td>\n",
       "      <td>0.517072</td>\n",
       "      <td>{'linreg__alpha': 0.5, 'scale': MinMaxScaler()}</td>\n",
       "    </tr>\n",
       "    <tr>\n",
       "      <th>5</th>\n",
       "      <td>3</td>\n",
       "      <td>0.511814</td>\n",
       "      <td>{'linreg__alpha': 1, 'scale': StandardScaler()}</td>\n",
       "    </tr>\n",
       "    <tr>\n",
       "      <th>0</th>\n",
       "      <td>4</td>\n",
       "      <td>0.511545</td>\n",
       "      <td>{'linreg__alpha': 0.1, 'scale': MinMaxScaler()}</td>\n",
       "    </tr>\n",
       "    <tr>\n",
       "      <th>3</th>\n",
       "      <td>5</td>\n",
       "      <td>0.510830</td>\n",
       "      <td>{'linreg__alpha': 0.5, 'scale': StandardScaler()}</td>\n",
       "    </tr>\n",
       "    <tr>\n",
       "      <th>1</th>\n",
       "      <td>6</td>\n",
       "      <td>0.510030</td>\n",
       "      <td>{'linreg__alpha': 0.1, 'scale': StandardScaler()}</td>\n",
       "    </tr>\n",
       "  </tbody>\n",
       "</table>\n",
       "</div>"
      ],
      "text/plain": [
       "   rank_test_score  mean_test_score  \\\n",
       "4                1         0.522186   \n",
       "2                2         0.517072   \n",
       "5                3         0.511814   \n",
       "0                4         0.511545   \n",
       "3                5         0.510830   \n",
       "1                6         0.510030   \n",
       "\n",
       "                                              params  \n",
       "4      {'linreg__alpha': 1, 'scale': MinMaxScaler()}  \n",
       "2    {'linreg__alpha': 0.5, 'scale': MinMaxScaler()}  \n",
       "5    {'linreg__alpha': 1, 'scale': StandardScaler()}  \n",
       "0    {'linreg__alpha': 0.1, 'scale': MinMaxScaler()}  \n",
       "3  {'linreg__alpha': 0.5, 'scale': StandardScaler()}  \n",
       "1  {'linreg__alpha': 0.1, 'scale': StandardScaler()}  "
      ]
     },
     "execution_count": 153,
     "metadata": {},
     "output_type": "execute_result"
    }
   ],
   "source": [
    "gs.fit(X_train, y_train)\n",
    "sel = [\"rank_test_score\",\"mean_test_score\",\"params\"]\n",
    "pd.DataFrame(gs.cv_results_).sort_values(\"mean_test_score\", ascending=False)[sel]"
   ]
  },
  {
   "cell_type": "code",
   "execution_count": 154,
   "metadata": {},
   "outputs": [],
   "source": [
    "model = Pipeline([\n",
    "    (\"scale\",  MinMaxScaler()),\n",
    "    (\"linreg\", Lasso(alpha=1))\n",
    "])\n",
    "model.fit(X_train, y_train);"
   ]
  },
  {
   "cell_type": "code",
   "execution_count": 155,
   "metadata": {},
   "outputs": [
    {
     "name": "stdout",
     "output_type": "stream",
     "text": [
      "Features positive estratte: 18\n"
     ]
    },
    {
     "data": {
      "text/plain": [
       "work_year                                 9685.143778\n",
       "remote_ratio                              2536.648552\n",
       "experience_level_EX                      61215.397465\n",
       "experience_level_SE                       1982.226897\n",
       "job_title_AI Scientist                   16473.440666\n",
       "job_title_Big Data Engineer              25172.515619\n",
       "job_title_Computer Vision Engineer        7501.272157\n",
       "job_title_Data Architect                 29067.585743\n",
       "job_title_Data Science Consultant         2556.547155\n",
       "job_title_Data Science Manager           16243.676089\n",
       "job_title_Machine Learning Engineer       9102.008138\n",
       "job_title_Machine Learning Scientist     24690.402424\n",
       "job_title_Principal Data Scientist       60914.099182\n",
       "company_location_CA                      16942.637394\n",
       "company_location_JP                     133834.081922\n",
       "company_location_US                      42831.346843\n",
       "company_size_L                            7964.110877\n",
       "company_size_M                            4874.586738\n",
       "dtype: float64"
      ]
     },
     "execution_count": 155,
     "metadata": {},
     "output_type": "execute_result"
    }
   ],
   "source": [
    "lasso = pd.Series(model.named_steps[\"linreg\"].coef_, index)\n",
    "c = len(lasso[lasso>0])\n",
    "print(\"Features positive estratte: \"+ str(c))\n",
    "lasso[lasso>0]"
   ]
  },
  {
   "cell_type": "code",
   "execution_count": 156,
   "metadata": {},
   "outputs": [
    {
     "data": {
      "text/plain": [
       "job_title_3D Computer Vision Researcher         0.0\n",
       "job_title_Analytics Engineer                    0.0\n",
       "job_title_Applied Data Scientist                0.0\n",
       "job_title_Applied Machine Learning Scientist    0.0\n",
       "job_title_Big Data Architect                    0.0\n",
       "                                               ... \n",
       "company_location_RU                             0.0\n",
       "company_location_SG                             0.0\n",
       "company_location_SI                             0.0\n",
       "company_location_UA                             0.0\n",
       "company_location_VN                             0.0\n",
       "Length: 69, dtype: float64"
      ]
     },
     "execution_count": 156,
     "metadata": {},
     "output_type": "execute_result"
    }
   ],
   "source": [
    "lasso[lasso==0]"
   ]
  },
  {
   "cell_type": "code",
   "execution_count": 157,
   "metadata": {},
   "outputs": [
    {
     "name": "stdout",
     "output_type": "stream",
     "text": [
      "Interval with confidence 95%: \n",
      "Pmin = 38.3759%\n",
      "Pmax = 53.7814%\n"
     ]
    }
   ],
   "source": [
    "confidence = 95\n",
    "lower, upper = confidence_interval(len(X_val), gs.score(X_val, y_val), confidence)\n",
    "\n",
    "print('Interval with confidence {}%: \\nPmin = {:.4f}%\\nPmax = {:.4f}%'.format(confidence, lower*100, upper*100))"
   ]
  },
  {
   "cell_type": "markdown",
   "metadata": {},
   "source": [
    "La regressione Lasso annulla i valori di 69 feature. Prendiamo in considerazione il modello in quanto abbiamo ottenuto dei risultati accettabili."
   ]
  },
  {
   "cell_type": "markdown",
   "metadata": {},
   "source": [
    "Non avendo ottenuto risultati particolarmente ottimi facciamo un tentativo con delle feature polinomiali. Tuttavia, il numero di variabili create sarebbe eccessivo esattamente come i tempi di esecuzione. Per cui utilizziamo un modello non lineare, che non aggiunge variabili. "
   ]
  },
  {
   "cell_type": "markdown",
   "metadata": {},
   "source": [
    "**Regressione con funzioni kernel**\n",
    "\n",
    "Importiamo e facciamo un tentativo con le funzioni kernel, testando due diverse funzioni. \n",
    "\n",
    "La prima funzione di kernel che testiamo è `poly`. E' una funzione di kernel polinomiale. Il parametro `degree` infatti rappresenta il grado del polinomio."
   ]
  },
  {
   "cell_type": "code",
   "execution_count": 158,
   "metadata": {},
   "outputs": [],
   "source": [
    "from sklearn.kernel_ridge import KernelRidge"
   ]
  },
  {
   "cell_type": "code",
   "execution_count": 159,
   "metadata": {},
   "outputs": [],
   "source": [
    "model = Pipeline([\n",
    "    (\"scale\", StandardScaler()),\n",
    "    (\"regr\", KernelRidge(kernel=\"poly\"))\n",
    "])"
   ]
  },
  {
   "cell_type": "code",
   "execution_count": 160,
   "metadata": {},
   "outputs": [
    {
     "name": "stdout",
     "output_type": "stream",
     "text": [
      "{'regr__alpha': 0.5, 'regr__degree': 2}\n",
      "--------------------------------\n",
      "           Mean scores: 52.38204%\n",
      "            Std scores: 0.066259\n",
      "--------------------------------\n",
      "   Mean squared error: 2.1632e+09\n",
      "       Relative error: 48.33290%\n",
      "R-squared coefficient: 0.48558\n"
     ]
    }
   ],
   "source": [
    "grid = {\n",
    "    \"regr__degree\": range(2, 11),\n",
    "    \"regr__alpha\": [0.01, 0.1, 0.2, 0.3, 0.4, 0.5, 1, 10, 20, 25, 30],\n",
    "}\n",
    "gs = grid_test(model, grid)"
   ]
  },
  {
   "cell_type": "code",
   "execution_count": 161,
   "metadata": {},
   "outputs": [
    {
     "name": "stdout",
     "output_type": "stream",
     "text": [
      "Interval with confidence 95%: \n",
      "Pmin = 40.8687%\n",
      "Pmax = 56.3167%\n"
     ]
    }
   ],
   "source": [
    "confidence = 95\n",
    "lower, upper = confidence_interval(len(X_val), gs.score(X_val, y_val), confidence)\n",
    "\n",
    "print('Interval with confidence {}%: \\nPmin = {:.4f}%\\nPmax = {:.4f}%'.format(confidence, lower*100, upper*100))"
   ]
  },
  {
   "cell_type": "markdown",
   "metadata": {},
   "source": [
    "I risultati sembrano in linea con gli altri modelli di regressione non lineari. Testiamo anche la funzione di kernel `RFB` (_radial basis function_). I valori della funzione RBF sono tanto elevati quanto i valori di X sono vicini alla media che, considerando che si stanno usando dei dati standardizzati, sarà pari a 0. Il parametro `gamma` è l'ampiezza della gaussiana della funzione."
   ]
  },
  {
   "cell_type": "code",
   "execution_count": 162,
   "metadata": {},
   "outputs": [
    {
     "name": "stdout",
     "output_type": "stream",
     "text": [
      "{'regr__alpha': 0.1, 'regr__gamma': 0.01}\n",
      "--------------------------------\n",
      "           Mean scores: 47.66652%\n",
      "            Std scores: 0.078371\n",
      "--------------------------------\n",
      "   Mean squared error: 2.2601e+09\n",
      "       Relative error: 46.64336%\n",
      "R-squared coefficient: 0.46255\n"
     ]
    }
   ],
   "source": [
    "model = Pipeline([\n",
    "    (\"scale\", StandardScaler()),\n",
    "    (\"regr\", KernelRidge(kernel=\"rbf\"))\n",
    "])\n",
    "grid = {\n",
    "    \"regr__gamma\": [0.01, 0.05, 0.1],\n",
    "    \"regr__alpha\": [0.01, 0.1, 1, 10, 20],\n",
    "}\n",
    "gs = grid_test(model, grid)"
   ]
  },
  {
   "cell_type": "code",
   "execution_count": 163,
   "metadata": {},
   "outputs": [
    {
     "name": "stdout",
     "output_type": "stream",
     "text": [
      "Interval with confidence 95%: \n",
      "Pmin = 38.6386%\n",
      "Pmax = 54.0505%\n"
     ]
    }
   ],
   "source": [
    "confidence = 95\n",
    "lower, upper = confidence_interval(len(X_val), gs.score(X_val, y_val), confidence)\n",
    "\n",
    "print('Interval with confidence {}%: \\nPmin = {:.4f}%\\nPmax = {:.4f}%'.format(confidence, lower*100, upper*100))"
   ]
  },
  {
   "cell_type": "markdown",
   "metadata": {},
   "source": [
    "I due modelli hanno un'accuratezza simile, tuttavia, la media dei punteggi della funzione di kernel `poly` è superiore a quella della funzione di kernel `RFB` di circa il 5% per cui valutiamo più positivamente la prima funzione."
   ]
  },
  {
   "cell_type": "markdown",
   "metadata": {},
   "source": [
    "# Valutazione dei modelli migliori"
   ]
  },
  {
   "cell_type": "code",
   "execution_count": 164,
   "metadata": {},
   "outputs": [],
   "source": [
    "from sklearn.model_selection import train_test_split\n",
    "from sklearn.feature_extraction.text import TfidfVectorizer\n",
    "\n",
    "X_train, X_val, y_train, y_val = train_test_split(X, y, test_size=1/3, random_state=42)\n",
    "\n",
    "index = X_train.columns.values.tolist()"
   ]
  },
  {
   "cell_type": "markdown",
   "metadata": {},
   "source": [
    "Mettiamo a confronto l'accuratezza dei 3 modelli migliori individuati."
   ]
  },
  {
   "cell_type": "code",
   "execution_count": 165,
   "metadata": {},
   "outputs": [],
   "source": [
    "ridge = Pipeline([\n",
    "    (\"scale\",  MinMaxScaler()),\n",
    "    (\"linreg\", Ridge(alpha=0.1))\n",
    "])\n",
    "lasso = Pipeline([\n",
    "    (\"scale\",  MinMaxScaler()),\n",
    "    (\"linreg\", Ridge(alpha=1))\n",
    "])\n",
    "kernel = Pipeline([\n",
    "    (\"scale\",  StandardScaler()),\n",
    "    (\"linreg\", KernelRidge(alpha=0.5, kernel=\"poly\", degree=2))\n",
    "])\n",
    "ridge.fit(X_train, y_train);\n",
    "lasso.fit(X_train, y_train);\n",
    "kernel.fit(X_train,y_train);"
   ]
  },
  {
   "cell_type": "code",
   "execution_count": 166,
   "metadata": {
    "scrolled": true
   },
   "outputs": [
    {
     "name": "stdout",
     "output_type": "stream",
     "text": [
      "Ridge model Train\n",
      "   Mean squared error: 1.022e+09\n",
      "       Relative error: 31.35633%\n",
      "R-squared coefficient: 0.64083\n",
      "--------------------------------\n",
      "Ridge model Val\n",
      "   Mean squared error: 2.1947e+09\n",
      "       Relative error: 49.56683%\n",
      "R-squared coefficient: 0.4781\n",
      "================================\n",
      "Lasso model Train\n",
      "   Mean squared error: 1.0548e+09\n",
      "       Relative error: 32.47353%\n",
      "R-squared coefficient: 0.62931\n",
      "--------------------------------\n",
      "Lasso model Val\n",
      "   Mean squared error: 1.9417e+09\n",
      "       Relative error: 46.76894%\n",
      "R-squared coefficient: 0.53826\n",
      "================================\n",
      "KernelRidge function 'poly' model Train\n",
      "   Mean squared error: 9.0915e+08\n",
      "       Relative error: 28.37010%\n",
      "R-squared coefficient: 0.68051\n",
      "--------------------------------\n",
      "KernelRidge function 'poly' model Val\n",
      "   Mean squared error: 2.1632e+09\n",
      "       Relative error: 48.33290%\n",
      "R-squared coefficient: 0.48558\n",
      "================================\n"
     ]
    }
   ],
   "source": [
    "print(\"Ridge model Train\")\n",
    "print_eval(X_train, y_train, ridge)\n",
    "print(\"--------------------------------\")\n",
    "print(\"Ridge model Val\")\n",
    "print_eval(X_val, y_val, ridge)\n",
    "print(\"================================\")\n",
    "print(\"Lasso model Train\")\n",
    "print_eval(X_train, y_train, lasso)\n",
    "print(\"--------------------------------\")\n",
    "print(\"Lasso model Val\")\n",
    "print_eval(X_val, y_val, lasso)\n",
    "print(\"================================\")\n",
    "print(\"KernelRidge function 'poly' model Train\")\n",
    "print_eval(X_train, y_train, kernel)\n",
    "print(\"--------------------------------\")\n",
    "print(\"KernelRidge function 'poly' model Val\")\n",
    "print_eval(X_val, y_val, kernel)\n",
    "print(\"================================\")"
   ]
  },
  {
   "cell_type": "markdown",
   "metadata": {},
   "source": [
    "Paragoniamo Lasso e Ridge notando che il primo sembra il modello che ha sofferto meno l'overfitting dei dati. Infatti, osservando la differenza tra le misure dell'addestramento e quelle della validazione, notiamo che quella del modello Lasso è inferiore rispetto a quella del modello Ridge. Ad esempio, la differenza tra R quadro dell'addestramento e R quadro della validazione nel modello Ridge è di 0,16 mentre la differenza tra i due coefficenti nel modello Lasso è di 0,09. Dunque, la diefferenza tra i coefficenti del modello Lasso è inferiore del 45% circa rispetto a quella del modello Ridge. \n",
    "\n",
    "La medesima osservazione può essere fatta confrontando il modello Lasso con il modello KernelRidge. Infatti, sempre prendendo come esempio R quadro, la differenza tra i coefficienti in fase di addestramento e quelli in fase di validazione del modello Lasso è di 0.09 e quella dei coefficenti del modello KernelRidge è di 0.19. Dunque, la diefferenza tra i coefficenti del modello Lasso è inferiore del 47% circa rispetto a quella del modello KernelRidge. \n",
    "\n",
    "Inoltre, possiamo notare che il modello Lasso possiede il coefficiente R quadro in fase di validazione più alto.\n",
    "\n",
    "Procediamo dunque con le considerazioni finali utilizzando il modello Lasso."
   ]
  },
  {
   "cell_type": "markdown",
   "metadata": {},
   "source": [
    "# Interpretazione della conoscenza appresa dal modello\n",
    "\n",
    "Interpretiamo tramite l'analisi dei coefficienti degli iperpiani la conoscenza appresa dal modello confrontandolo coi dati in nostro possesso e con le conoscenze rispetto al dominio applicativo che possediamo."
   ]
  },
  {
   "cell_type": "code",
   "execution_count": 167,
   "metadata": {},
   "outputs": [
    {
     "data": {
      "text/plain": [
       "company_location_TR                -43087.753581\n",
       "job_title_BI Data Analyst          -39777.407044\n",
       "job_title_Data Analyst             -37527.115163\n",
       "job_title_Lead Data Engineer       -33461.831002\n",
       "experience_level_EN                -33316.883561\n",
       "company_location_IN                -32883.529087\n",
       "job_title_Data Analytics Manager   -28681.290108\n",
       "company_location_PL                -27458.084067\n",
       "company_location_NL                -24975.699184\n",
       "company_location_BR                -17968.296765\n",
       "company_location_ES                -17201.901559\n",
       "experience_level_MI                -14873.439053\n",
       "company_size_S                     -14770.150098\n",
       "job_title_Research Scientist        -8675.591323\n",
       "company_location_GR                 -8432.097561\n",
       "job_title_Data Engineer             -7678.551418\n",
       "job_title_Data Scientist            -7294.013700\n",
       "company_location_FR                 -3180.677739\n",
       "company_location_AT                 -1245.656115\n",
       "job_title_Business Data Analyst         0.000000\n",
       "dtype: float64"
      ]
     },
     "execution_count": 167,
     "metadata": {},
     "output_type": "execute_result"
    }
   ],
   "source": [
    "index = X_train.columns.values.tolist()\n",
    "coefs = pd.Series(lasso.named_steps[\"linreg\"].coef_, index).sort_values()\n",
    "coefs.head(20)"
   ]
  },
  {
   "cell_type": "code",
   "execution_count": 168,
   "metadata": {},
   "outputs": [
    {
     "data": {
      "text/plain": [
       "job_title_Data Science Consultant        1793.001949\n",
       "experience_level_SE                      3918.944014\n",
       "job_title_Director of Data Science       4141.550355\n",
       "job_title_Computer Vision Engineer       4173.997212\n",
       "job_title_Machine Learning Engineer      6105.419614\n",
       "company_size_M                           6549.348144\n",
       "company_location_DE                      7449.309653\n",
       "company_location_GB                      8209.580085\n",
       "company_size_L                           8220.801954\n",
       "work_year                                8409.515271\n",
       "job_title_AI Scientist                  11406.695076\n",
       "job_title_Big Data Engineer             13806.299565\n",
       "job_title_Data Science Manager          14611.112318\n",
       "company_location_CA                     25105.405585\n",
       "job_title_Data Architect                28069.112865\n",
       "job_title_Machine Learning Scientist    31525.786610\n",
       "experience_level_EX                     44271.378600\n",
       "job_title_Principal Data Scientist      47462.824193\n",
       "company_location_US                     53439.586976\n",
       "company_location_JP                     82229.813358\n",
       "dtype: float64"
      ]
     },
     "execution_count": 168,
     "metadata": {},
     "output_type": "execute_result"
    }
   ],
   "source": [
    "coefs.tail(20)"
   ]
  },
  {
   "cell_type": "markdown",
   "metadata": {},
   "source": [
    "Osserviamo che le feature che influenzano maggiormente in modo negativo lo stipendio sono:\n",
    "- Turchia come localizzazione dell'impresa\n",
    "- BI (Business Intelligence) Data Analyst come mansione ricoperta\n",
    "- Data Analyst come mansione ricoperta\n",
    "\n",
    "Mentre quelle che lo influenzano maggiormente in modo positivo sono:\n",
    "- Giappone come localizzazione dell'impresa\n",
    "- Stati Uniti d'America come localizzazione dell'impresa\n",
    "- Principal Data Scientist come mansione ricoperta"
   ]
  },
  {
   "cell_type": "code",
   "execution_count": 169,
   "metadata": {},
   "outputs": [
    {
     "name": "stdout",
     "output_type": "stream",
     "text": [
      "negative features: 19\n",
      "positive features: 21\n"
     ]
    }
   ],
   "source": [
    "print(\"negative features: \" +str(len(coefs[coefs<0])))\n",
    "print(\"positive features: \" +str(len(coefs[coefs>0])))"
   ]
  },
  {
   "cell_type": "markdown",
   "metadata": {},
   "source": [
    "Osserviamo inoltre che le feature che influenzano positivamente lo stipendio sono maggiori rispetto a quelle che lo influenzano negativamente."
   ]
  },
  {
   "cell_type": "code",
   "execution_count": 170,
   "metadata": {},
   "outputs": [
    {
     "name": "stdout",
     "output_type": "stream",
     "text": [
      "Base: 81570.439\n",
      "Mean: 114079.828\n"
     ]
    }
   ],
   "source": [
    "print(\"Base: %5.3f\"%lasso.named_steps[\"linreg\"].intercept_)\n",
    "print(\"Mean: %5.3f\"%data[\"salary_in_usd\"].mean())"
   ]
  },
  {
   "cell_type": "markdown",
   "metadata": {},
   "source": [
    "E che la base dello stipendio si avvicina alla media, pur restando leggermente più bassa, senza discostarsi di troppo."
   ]
  },
  {
   "cell_type": "markdown",
   "metadata": {},
   "source": [
    "Concludiamo osservando i dati ottenuti rispetto ad ogni feature."
   ]
  },
  {
   "cell_type": "code",
   "execution_count": 171,
   "metadata": {},
   "outputs": [],
   "source": [
    "def best_worst_values(cat,n):\n",
    "    lenght = len(cat) + 1\n",
    "    cats_less_index = data_reduced[cat].unique()\n",
    "    cats = [cat+\"_\"+s for s in cats_less_index]\n",
    "    catscoef = coefs[cats].sort_values()\n",
    "    best = catscoef.tail(n)\n",
    "    worst = catscoef.head(n)\n",
    "    means = data_reduced[[cat, \"salary_in_usd\"]].groupby(cat).mean()\n",
    "    std = data_reduced[[cat, \"salary_in_usd\"]].groupby(cat).std()\n",
    "    max_ = data_reduced[[cat, \"salary_in_usd\"]].groupby(cat).max()\n",
    "    min_ = data_reduced[[cat, \"salary_in_usd\"]].groupby(cat).min()\n",
    "    count = data_reduced[cat].value_counts()\n",
    "    best = {\"Best \" +cat : catscoef.tail(n).index, \n",
    "         'coef':catscoef.tail(n).values,\n",
    "         'salary_mean': means.loc[[i[lenght:] for i in list(best.index)]][\"salary_in_usd\"].values,\n",
    "         'salary_std': std.loc[[i[lenght:] for i in list(best.index)]][\"salary_in_usd\"].values,\n",
    "         'salary_max': max_.loc[[i[lenght:] for i in list(best.index)]][\"salary_in_usd\"].values,\n",
    "         'salary_min': min_.loc[[i[lenght:] for i in list(best.index)]][\"salary_in_usd\"].values,\n",
    "         'count': count[[i[lenght:] for i in list(best.index)]].values\n",
    "        }\n",
    "    worst = {\"Worst \" +cat : catscoef.head(n).index,\n",
    "            'coef':catscoef.head(n).values,\n",
    "            'salary_mean': means.loc[[i[lenght:] for i in list(worst.index)]][\"salary_in_usd\"].values,\n",
    "            'salary_std': std.loc[[i[lenght:] for i in list(worst.index)]][\"salary_in_usd\"].values,\n",
    "            'salary_max': max_.loc[[i[lenght:] for i in list(worst.index)]][\"salary_in_usd\"].values,\n",
    "            'salary_min': min_.loc[[i[lenght:] for i in list(worst.index)]][\"salary_in_usd\"].values,\n",
    "            'count': count[[i[lenght:] for i in list(worst.index)]].values\n",
    "            } \n",
    "    display(pd.DataFrame(best).sort_values(\"coef\", ascending=False).reset_index(drop=True))\n",
    "    display(pd.DataFrame(worst).sort_values(\"coef\"))"
   ]
  },
  {
   "cell_type": "code",
   "execution_count": 172,
   "metadata": {},
   "outputs": [
    {
     "data": {
      "text/html": [
       "<div>\n",
       "<style scoped>\n",
       "    .dataframe tbody tr th:only-of-type {\n",
       "        vertical-align: middle;\n",
       "    }\n",
       "\n",
       "    .dataframe tbody tr th {\n",
       "        vertical-align: top;\n",
       "    }\n",
       "\n",
       "    .dataframe thead th {\n",
       "        text-align: right;\n",
       "    }\n",
       "</style>\n",
       "<table border=\"1\" class=\"dataframe\">\n",
       "  <thead>\n",
       "    <tr style=\"text-align: right;\">\n",
       "      <th></th>\n",
       "      <th>Best job_title</th>\n",
       "      <th>coef</th>\n",
       "      <th>salary_mean</th>\n",
       "      <th>salary_std</th>\n",
       "      <th>salary_max</th>\n",
       "      <th>salary_min</th>\n",
       "      <th>count</th>\n",
       "    </tr>\n",
       "  </thead>\n",
       "  <tbody>\n",
       "    <tr>\n",
       "      <th>0</th>\n",
       "      <td>job_title_Principal Data Scientist</td>\n",
       "      <td>47462.824193</td>\n",
       "      <td>181782.833333</td>\n",
       "      <td>36860.266067</td>\n",
       "      <td>235000.0</td>\n",
       "      <td>148261.0</td>\n",
       "      <td>6</td>\n",
       "    </tr>\n",
       "    <tr>\n",
       "      <th>1</th>\n",
       "      <td>job_title_Machine Learning Scientist</td>\n",
       "      <td>31525.786610</td>\n",
       "      <td>179328.571429</td>\n",
       "      <td>57386.314114</td>\n",
       "      <td>260000.0</td>\n",
       "      <td>112300.0</td>\n",
       "      <td>7</td>\n",
       "    </tr>\n",
       "    <tr>\n",
       "      <th>2</th>\n",
       "      <td>job_title_Data Architect</td>\n",
       "      <td>28069.112865</td>\n",
       "      <td>177873.909091</td>\n",
       "      <td>45714.721424</td>\n",
       "      <td>266400.0</td>\n",
       "      <td>90700.0</td>\n",
       "      <td>11</td>\n",
       "    </tr>\n",
       "  </tbody>\n",
       "</table>\n",
       "</div>"
      ],
      "text/plain": [
       "                         Best job_title          coef    salary_mean  \\\n",
       "0    job_title_Principal Data Scientist  47462.824193  181782.833333   \n",
       "1  job_title_Machine Learning Scientist  31525.786610  179328.571429   \n",
       "2              job_title_Data Architect  28069.112865  177873.909091   \n",
       "\n",
       "     salary_std  salary_max  salary_min  count  \n",
       "0  36860.266067    235000.0    148261.0      6  \n",
       "1  57386.314114    260000.0    112300.0      7  \n",
       "2  45714.721424    266400.0     90700.0     11  "
      ]
     },
     "metadata": {},
     "output_type": "display_data"
    },
    {
     "data": {
      "text/html": [
       "<div>\n",
       "<style scoped>\n",
       "    .dataframe tbody tr th:only-of-type {\n",
       "        vertical-align: middle;\n",
       "    }\n",
       "\n",
       "    .dataframe tbody tr th {\n",
       "        vertical-align: top;\n",
       "    }\n",
       "\n",
       "    .dataframe thead th {\n",
       "        text-align: right;\n",
       "    }\n",
       "</style>\n",
       "<table border=\"1\" class=\"dataframe\">\n",
       "  <thead>\n",
       "    <tr style=\"text-align: right;\">\n",
       "      <th></th>\n",
       "      <th>Worst job_title</th>\n",
       "      <th>coef</th>\n",
       "      <th>salary_mean</th>\n",
       "      <th>salary_std</th>\n",
       "      <th>salary_max</th>\n",
       "      <th>salary_min</th>\n",
       "      <th>count</th>\n",
       "    </tr>\n",
       "  </thead>\n",
       "  <tbody>\n",
       "    <tr>\n",
       "      <th>0</th>\n",
       "      <td>job_title_BI Data Analyst</td>\n",
       "      <td>-39777.407044</td>\n",
       "      <td>87851.800000</td>\n",
       "      <td>44311.458069</td>\n",
       "      <td>150000.0</td>\n",
       "      <td>36259.0</td>\n",
       "      <td>5</td>\n",
       "    </tr>\n",
       "    <tr>\n",
       "      <th>1</th>\n",
       "      <td>job_title_Data Analyst</td>\n",
       "      <td>-37527.115163</td>\n",
       "      <td>95556.095745</td>\n",
       "      <td>37637.746313</td>\n",
       "      <td>200000.0</td>\n",
       "      <td>6072.0</td>\n",
       "      <td>94</td>\n",
       "    </tr>\n",
       "    <tr>\n",
       "      <th>2</th>\n",
       "      <td>job_title_Lead Data Engineer</td>\n",
       "      <td>-33461.831002</td>\n",
       "      <td>142669.400000</td>\n",
       "      <td>83290.701893</td>\n",
       "      <td>276000.0</td>\n",
       "      <td>56000.0</td>\n",
       "      <td>5</td>\n",
       "    </tr>\n",
       "  </tbody>\n",
       "</table>\n",
       "</div>"
      ],
      "text/plain": [
       "                Worst job_title          coef    salary_mean    salary_std  \\\n",
       "0     job_title_BI Data Analyst -39777.407044   87851.800000  44311.458069   \n",
       "1        job_title_Data Analyst -37527.115163   95556.095745  37637.746313   \n",
       "2  job_title_Lead Data Engineer -33461.831002  142669.400000  83290.701893   \n",
       "\n",
       "   salary_max  salary_min  count  \n",
       "0    150000.0     36259.0      5  \n",
       "1    200000.0      6072.0     94  \n",
       "2    276000.0     56000.0      5  "
      ]
     },
     "metadata": {},
     "output_type": "display_data"
    }
   ],
   "source": [
    "best_worst_values(\"job_title\", 3)"
   ]
  },
  {
   "cell_type": "markdown",
   "metadata": {},
   "source": [
    "Dai risultati ottenuti osserviamo che:\n",
    "- Le 3 mansioni più pagate sono rispettivamente\n",
    "    - Principal Data Science (con uno stipendio annuo medio di 182000 dollari circa)\n",
    "    - Machine Learning Scientist (con uno stipendio annuo medio di 179000 dollari circa)\n",
    "    - Data Architect (con uno stipendio annuo medio di 178000 dollari circa)\n",
    "- Le 3 mansioni meno pagate sono rispettivamente\n",
    "    - BI Data Analyst (con uno stipendio annuo medio di 88000 dollari circa)\n",
    "    - Data Analyst (con uno stipendio annuo medio di 96000 dollari circa)\n",
    "    - Data Engineer (con uno stipendio annuo medio di 143000 dollari circa)"
   ]
  },
  {
   "cell_type": "code",
   "execution_count": 173,
   "metadata": {},
   "outputs": [
    {
     "data": {
      "text/html": [
       "<div>\n",
       "<style scoped>\n",
       "    .dataframe tbody tr th:only-of-type {\n",
       "        vertical-align: middle;\n",
       "    }\n",
       "\n",
       "    .dataframe tbody tr th {\n",
       "        vertical-align: top;\n",
       "    }\n",
       "\n",
       "    .dataframe thead th {\n",
       "        text-align: right;\n",
       "    }\n",
       "</style>\n",
       "<table border=\"1\" class=\"dataframe\">\n",
       "  <thead>\n",
       "    <tr style=\"text-align: right;\">\n",
       "      <th></th>\n",
       "      <th>Best company_location</th>\n",
       "      <th>coef</th>\n",
       "      <th>salary_mean</th>\n",
       "      <th>salary_std</th>\n",
       "      <th>salary_max</th>\n",
       "      <th>salary_min</th>\n",
       "      <th>count</th>\n",
       "    </tr>\n",
       "  </thead>\n",
       "  <tbody>\n",
       "    <tr>\n",
       "      <th>0</th>\n",
       "      <td>company_location_JP</td>\n",
       "      <td>82229.813358</td>\n",
       "      <td>135922.250000</td>\n",
       "      <td>98553.776421</td>\n",
       "      <td>260000.0</td>\n",
       "      <td>41689.0</td>\n",
       "      <td>4</td>\n",
       "    </tr>\n",
       "    <tr>\n",
       "      <th>1</th>\n",
       "      <td>company_location_US</td>\n",
       "      <td>53439.586976</td>\n",
       "      <td>136723.401961</td>\n",
       "      <td>51070.185014</td>\n",
       "      <td>325000.0</td>\n",
       "      <td>5679.0</td>\n",
       "      <td>306</td>\n",
       "    </tr>\n",
       "    <tr>\n",
       "      <th>2</th>\n",
       "      <td>company_location_CA</td>\n",
       "      <td>25105.405585</td>\n",
       "      <td>104225.090909</td>\n",
       "      <td>51803.130859</td>\n",
       "      <td>225000.0</td>\n",
       "      <td>52000.0</td>\n",
       "      <td>22</td>\n",
       "    </tr>\n",
       "  </tbody>\n",
       "</table>\n",
       "</div>"
      ],
      "text/plain": [
       "  Best company_location          coef    salary_mean    salary_std  \\\n",
       "0   company_location_JP  82229.813358  135922.250000  98553.776421   \n",
       "1   company_location_US  53439.586976  136723.401961  51070.185014   \n",
       "2   company_location_CA  25105.405585  104225.090909  51803.130859   \n",
       "\n",
       "   salary_max  salary_min  count  \n",
       "0    260000.0     41689.0      4  \n",
       "1    325000.0      5679.0    306  \n",
       "2    225000.0     52000.0     22  "
      ]
     },
     "metadata": {},
     "output_type": "display_data"
    },
    {
     "data": {
      "text/html": [
       "<div>\n",
       "<style scoped>\n",
       "    .dataframe tbody tr th:only-of-type {\n",
       "        vertical-align: middle;\n",
       "    }\n",
       "\n",
       "    .dataframe tbody tr th {\n",
       "        vertical-align: top;\n",
       "    }\n",
       "\n",
       "    .dataframe thead th {\n",
       "        text-align: right;\n",
       "    }\n",
       "</style>\n",
       "<table border=\"1\" class=\"dataframe\">\n",
       "  <thead>\n",
       "    <tr style=\"text-align: right;\">\n",
       "      <th></th>\n",
       "      <th>Worst company_location</th>\n",
       "      <th>coef</th>\n",
       "      <th>salary_mean</th>\n",
       "      <th>salary_std</th>\n",
       "      <th>salary_max</th>\n",
       "      <th>salary_min</th>\n",
       "      <th>count</th>\n",
       "    </tr>\n",
       "  </thead>\n",
       "  <tbody>\n",
       "    <tr>\n",
       "      <th>0</th>\n",
       "      <td>company_location_TR</td>\n",
       "      <td>-43087.753581</td>\n",
       "      <td>20096.666667</td>\n",
       "      <td>7956.760417</td>\n",
       "      <td>28016.0</td>\n",
       "      <td>12103.0</td>\n",
       "      <td>3</td>\n",
       "    </tr>\n",
       "    <tr>\n",
       "      <th>1</th>\n",
       "      <td>company_location_IN</td>\n",
       "      <td>-32883.529087</td>\n",
       "      <td>28712.277778</td>\n",
       "      <td>21601.045699</td>\n",
       "      <td>94665.0</td>\n",
       "      <td>5707.0</td>\n",
       "      <td>18</td>\n",
       "    </tr>\n",
       "    <tr>\n",
       "      <th>2</th>\n",
       "      <td>company_location_PL</td>\n",
       "      <td>-27458.084067</td>\n",
       "      <td>66082.500000</td>\n",
       "      <td>58863.601512</td>\n",
       "      <td>153667.0</td>\n",
       "      <td>28476.0</td>\n",
       "      <td>4</td>\n",
       "    </tr>\n",
       "  </tbody>\n",
       "</table>\n",
       "</div>"
      ],
      "text/plain": [
       "  Worst company_location          coef   salary_mean    salary_std  \\\n",
       "0    company_location_TR -43087.753581  20096.666667   7956.760417   \n",
       "1    company_location_IN -32883.529087  28712.277778  21601.045699   \n",
       "2    company_location_PL -27458.084067  66082.500000  58863.601512   \n",
       "\n",
       "   salary_max  salary_min  count  \n",
       "0     28016.0     12103.0      3  \n",
       "1     94665.0      5707.0     18  \n",
       "2    153667.0     28476.0      4  "
      ]
     },
     "metadata": {},
     "output_type": "display_data"
    }
   ],
   "source": [
    "best_worst_values(\"company_location\", 3)"
   ]
  },
  {
   "cell_type": "markdown",
   "metadata": {},
   "source": [
    "Dai risultati ottenuti osserviamo che:\n",
    "- I 3 paesi con le retribuzioni mediamente più alte sono rispettivamente\n",
    "    - Giappone (con uno stipendio annuo medio di 136000 dollari circa)\n",
    "    - Stati Uniti D'America (con uno stipendio annuo medio di 136000 dollari circa)\n",
    "    - Canada (con uno stipendio annuo medio di 104000 dollari circa)\n",
    "- I 3 paesi con le retribuzioni mediamente più basse sono rispettivamente\n",
    "    - Turchia (con uno stipendio annuo medio di 20000 dollari circa)\n",
    "    - India (con uno stipendio annuo medio di 29000 dollari circa)\n",
    "    - Polonia (con uno stipendio annuo medio di 66000 dollari circa)"
   ]
  },
  {
   "cell_type": "code",
   "execution_count": 174,
   "metadata": {},
   "outputs": [
    {
     "data": {
      "text/html": [
       "<div>\n",
       "<style scoped>\n",
       "    .dataframe tbody tr th:only-of-type {\n",
       "        vertical-align: middle;\n",
       "    }\n",
       "\n",
       "    .dataframe tbody tr th {\n",
       "        vertical-align: top;\n",
       "    }\n",
       "\n",
       "    .dataframe thead th {\n",
       "        text-align: right;\n",
       "    }\n",
       "</style>\n",
       "<table border=\"1\" class=\"dataframe\">\n",
       "  <thead>\n",
       "    <tr style=\"text-align: right;\">\n",
       "      <th></th>\n",
       "      <th>Best company_size</th>\n",
       "      <th>coef</th>\n",
       "      <th>salary_mean</th>\n",
       "      <th>salary_std</th>\n",
       "      <th>salary_max</th>\n",
       "      <th>salary_min</th>\n",
       "      <th>count</th>\n",
       "    </tr>\n",
       "  </thead>\n",
       "  <tbody>\n",
       "    <tr>\n",
       "      <th>0</th>\n",
       "      <td>company_size_L</td>\n",
       "      <td>8220.801954</td>\n",
       "      <td>116344.340741</td>\n",
       "      <td>63252.671658</td>\n",
       "      <td>325000</td>\n",
       "      <td>16228</td>\n",
       "      <td>135</td>\n",
       "    </tr>\n",
       "  </tbody>\n",
       "</table>\n",
       "</div>"
      ],
      "text/plain": [
       "  Best company_size         coef    salary_mean    salary_std  salary_max  \\\n",
       "0    company_size_L  8220.801954  116344.340741  63252.671658      325000   \n",
       "\n",
       "   salary_min  count  \n",
       "0       16228    135  "
      ]
     },
     "metadata": {},
     "output_type": "display_data"
    },
    {
     "data": {
      "text/html": [
       "<div>\n",
       "<style scoped>\n",
       "    .dataframe tbody tr th:only-of-type {\n",
       "        vertical-align: middle;\n",
       "    }\n",
       "\n",
       "    .dataframe tbody tr th {\n",
       "        vertical-align: top;\n",
       "    }\n",
       "\n",
       "    .dataframe thead th {\n",
       "        text-align: right;\n",
       "    }\n",
       "</style>\n",
       "<table border=\"1\" class=\"dataframe\">\n",
       "  <thead>\n",
       "    <tr style=\"text-align: right;\">\n",
       "      <th></th>\n",
       "      <th>Worst company_size</th>\n",
       "      <th>coef</th>\n",
       "      <th>salary_mean</th>\n",
       "      <th>salary_std</th>\n",
       "      <th>salary_max</th>\n",
       "      <th>salary_min</th>\n",
       "      <th>count</th>\n",
       "    </tr>\n",
       "  </thead>\n",
       "  <tbody>\n",
       "    <tr>\n",
       "      <th>0</th>\n",
       "      <td>company_size_S</td>\n",
       "      <td>-14770.150098</td>\n",
       "      <td>75663.788462</td>\n",
       "      <td>45856.568467</td>\n",
       "      <td>260000</td>\n",
       "      <td>5679</td>\n",
       "      <td>52</td>\n",
       "    </tr>\n",
       "  </tbody>\n",
       "</table>\n",
       "</div>"
      ],
      "text/plain": [
       "  Worst company_size          coef   salary_mean    salary_std  salary_max  \\\n",
       "0     company_size_S -14770.150098  75663.788462  45856.568467      260000   \n",
       "\n",
       "   salary_min  count  \n",
       "0        5679     52  "
      ]
     },
     "metadata": {},
     "output_type": "display_data"
    }
   ],
   "source": [
    "best_worst_values(\"company_size\", 1)"
   ]
  },
  {
   "cell_type": "markdown",
   "metadata": {},
   "source": [
    "Dai risultati ottenuti osserviamo che:\n",
    "- Le aziende che pagano maggiormente sono quelle che hanno più di 250 dipendenti (con uno stipendio annuo medio di 116000 dollari circa)\n",
    "- Le aziende che pagano meno sono quelle che hanno meno di 50 dipendenti (con uno stipendio annuo medio di 76000 dollari circa)"
   ]
  },
  {
   "cell_type": "code",
   "execution_count": 175,
   "metadata": {},
   "outputs": [
    {
     "data": {
      "text/html": [
       "<div>\n",
       "<style scoped>\n",
       "    .dataframe tbody tr th:only-of-type {\n",
       "        vertical-align: middle;\n",
       "    }\n",
       "\n",
       "    .dataframe tbody tr th {\n",
       "        vertical-align: top;\n",
       "    }\n",
       "\n",
       "    .dataframe thead th {\n",
       "        text-align: right;\n",
       "    }\n",
       "</style>\n",
       "<table border=\"1\" class=\"dataframe\">\n",
       "  <thead>\n",
       "    <tr style=\"text-align: right;\">\n",
       "      <th></th>\n",
       "      <th>Best experience_level</th>\n",
       "      <th>coef</th>\n",
       "      <th>salary_mean</th>\n",
       "      <th>salary_std</th>\n",
       "      <th>salary_max</th>\n",
       "      <th>salary_min</th>\n",
       "      <th>count</th>\n",
       "    </tr>\n",
       "  </thead>\n",
       "  <tbody>\n",
       "    <tr>\n",
       "      <th>0</th>\n",
       "      <td>experience_level_EX</td>\n",
       "      <td>44271.378600</td>\n",
       "      <td>183829.733333</td>\n",
       "      <td>76154.792041</td>\n",
       "      <td>325000</td>\n",
       "      <td>69741</td>\n",
       "      <td>15</td>\n",
       "    </tr>\n",
       "    <tr>\n",
       "      <th>1</th>\n",
       "      <td>experience_level_SE</td>\n",
       "      <td>3918.944014</td>\n",
       "      <td>137571.244726</td>\n",
       "      <td>49838.758834</td>\n",
       "      <td>276000</td>\n",
       "      <td>18907</td>\n",
       "      <td>237</td>\n",
       "    </tr>\n",
       "  </tbody>\n",
       "</table>\n",
       "</div>"
      ],
      "text/plain": [
       "  Best experience_level          coef    salary_mean    salary_std  \\\n",
       "0   experience_level_EX  44271.378600  183829.733333  76154.792041   \n",
       "1   experience_level_SE   3918.944014  137571.244726  49838.758834   \n",
       "\n",
       "   salary_max  salary_min  count  \n",
       "0      325000       69741     15  \n",
       "1      276000       18907    237  "
      ]
     },
     "metadata": {},
     "output_type": "display_data"
    },
    {
     "data": {
      "text/html": [
       "<div>\n",
       "<style scoped>\n",
       "    .dataframe tbody tr th:only-of-type {\n",
       "        vertical-align: middle;\n",
       "    }\n",
       "\n",
       "    .dataframe tbody tr th {\n",
       "        vertical-align: top;\n",
       "    }\n",
       "\n",
       "    .dataframe thead th {\n",
       "        text-align: right;\n",
       "    }\n",
       "</style>\n",
       "<table border=\"1\" class=\"dataframe\">\n",
       "  <thead>\n",
       "    <tr style=\"text-align: right;\">\n",
       "      <th></th>\n",
       "      <th>Worst experience_level</th>\n",
       "      <th>coef</th>\n",
       "      <th>salary_mean</th>\n",
       "      <th>salary_std</th>\n",
       "      <th>salary_max</th>\n",
       "      <th>salary_min</th>\n",
       "      <th>count</th>\n",
       "    </tr>\n",
       "  </thead>\n",
       "  <tbody>\n",
       "    <tr>\n",
       "      <th>0</th>\n",
       "      <td>experience_level_EN</td>\n",
       "      <td>-33316.883561</td>\n",
       "      <td>68432.783333</td>\n",
       "      <td>44264.337142</td>\n",
       "      <td>250000</td>\n",
       "      <td>5707</td>\n",
       "      <td>60</td>\n",
       "    </tr>\n",
       "    <tr>\n",
       "      <th>1</th>\n",
       "      <td>experience_level_MI</td>\n",
       "      <td>-14873.439053</td>\n",
       "      <td>89555.196203</td>\n",
       "      <td>46877.410673</td>\n",
       "      <td>241000</td>\n",
       "      <td>5679</td>\n",
       "      <td>158</td>\n",
       "    </tr>\n",
       "  </tbody>\n",
       "</table>\n",
       "</div>"
      ],
      "text/plain": [
       "  Worst experience_level          coef   salary_mean    salary_std  \\\n",
       "0    experience_level_EN -33316.883561  68432.783333  44264.337142   \n",
       "1    experience_level_MI -14873.439053  89555.196203  46877.410673   \n",
       "\n",
       "   salary_max  salary_min  count  \n",
       "0      250000        5707     60  \n",
       "1      241000        5679    158  "
      ]
     },
     "metadata": {},
     "output_type": "display_data"
    }
   ],
   "source": [
    "best_worst_values(\"experience_level\", 2)"
   ]
  },
  {
   "cell_type": "markdown",
   "metadata": {},
   "source": [
    "Dai risultati ottenuti osserviamo, **come precedentemente osservato**, che c'è una diretta correlazione tra lo stipendio medio e il livello di esperienza, infatti:\n",
    "- I livelli di esperienza maggiormente retribuiti sono rispettivamente:\n",
    "    - Il livello di esperienza alto (esperto) (con uno stipendio annuo medio di 184000 dollari circa)\n",
    "    - Il livello di esperienza intermedio (senior) (con uno stipendio annuo medio di 138000 dollari circa)\n",
    "- I livelli di esperienza minormente retribuiti sono rispettivamente:\n",
    "    - Il livello di esperienza dei nuovi ingressi in azienda (con uno stipendio annuo medio di 90000 dollari circa)\n",
    "    - Il livello di esperienza basso (junior) (con uno stipendio annuo medio di 68000 dollari circa)\n",
    "    "
   ]
  },
  {
   "cell_type": "markdown",
   "metadata": {},
   "source": [
    "# Conclusioni"
   ]
  },
  {
   "cell_type": "markdown",
   "metadata": {},
   "source": [
    "Dalle analisi sul modello predittivo elaborato emerge un sufficiente adattamento del modello ai dati, tuttavia, potrebbe essere migliorato ampliando il numero di soggetti campionati.\n",
    "\n",
    "I risultati del modello rispecchiano la realtà osservabile dalla variabile `salary_in_usd` e il modello potrebbe rivelarsi utile  ed essere utilizzato dagli studenti nell'ambito della Data Science come strumento di conoscenza del mercato del lavoro a livello globale. La sua importanza in questo ambito andrebbe man mano potenziandosi con l'incremento delle features che descrivono l'impiego e il successivo aumento delle dimensioni del dataset. \n",
    "\n",
    "Lo studio predittivo, a mio parere, ha introdotto conoscenza nell'ambito osservato e possibili spunti per studi succesivi. Mi ritengo complessivamente soddisfatta delle analisi svolte e del modello predittivo elaborato."
   ]
  }
 ],
 "metadata": {
  "kernelspec": {
   "display_name": "Python 3",
   "language": "python",
   "name": "python3"
  },
  "language_info": {
   "codemirror_mode": {
    "name": "ipython",
    "version": 3
   },
   "file_extension": ".py",
   "mimetype": "text/x-python",
   "name": "python",
   "nbconvert_exporter": "python",
   "pygments_lexer": "ipython3",
   "version": "3.8.5"
  }
 },
 "nbformat": 4,
 "nbformat_minor": 4
}
